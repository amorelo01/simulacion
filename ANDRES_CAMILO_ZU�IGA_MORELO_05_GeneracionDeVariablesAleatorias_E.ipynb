{
  "nbformat": 4,
  "nbformat_minor": 0,
  "metadata": {
    "colab": {
      "provenance": [],
      "include_colab_link": true
    },
    "kernelspec": {
      "name": "python3",
      "display_name": "Python 3"
    },
    "language_info": {
      "name": "python"
    }
  },
  "cells": [
    {
      "cell_type": "markdown",
      "metadata": {
        "id": "view-in-github",
        "colab_type": "text"
      },
      "source": [
        "<a href=\"https://colab.research.google.com/github/amorelo01/simulacion/blob/main/ANDRES_CAMILO_ZU%EF%BF%BDIGA_MORELO_05_GeneracionDeVariablesAleatorias_E.ipynb\" target=\"_parent\"><img src=\"https://colab.research.google.com/assets/colab-badge.svg\" alt=\"Open In Colab\"/></a>"
      ]
    },
    {
      "cell_type": "markdown",
      "source": [
        "<p><img alt=\"UdeA\" height=\"150px\" src=\"https://upload.wikimedia.org/wikipedia/commons/archive/f/fb/20161010213812%21Escudo-UdeA.svg\" align=\"left\" hspace=\"10px\" vspace=\"0px\"></p>\n",
        "<img alt=\"CC\" height=\"150px\" src=\"https://upload.wikimedia.org/wikipedia/commons/thumb/b/b9/Ingenier%C3%ADa_Industrial_UdeA.png/1026px-Ingenier%C3%ADa_Industrial_UdeA.png\" align=\"right\" hspace=\"0px\" vspace=\"0px\">\n",
        "<br><br>\n",
        "<p>\n",
        "<h1><center><b> Generación de Variables Aleatorias </b></center></h1>\n",
        "<br>\n",
        "<h1><center><b> Student Edition 🤓🤓🤓🤓 </b></center></h1>\n",
        "<br>\n",
        "<hr size=10 noshade color=\"green\">\n",
        "</p>\n",
        "<p>\n",
        "<img alt=\"CC\" height=\"70px\" src=\"https://mirrors.creativecommons.org/presskit/icons/by.xlarge.png\" align=\"left\" hspace=\"0px\" vspace=\"0px\">\n",
        "<img alt=\"Attribution\" height=\"70px\" src=\"https://mirrors.creativecommons.org/presskit/icons/nc.xlarge.png\" align=\"left\" hspace=\"0px\" vspace=\"0px\">\n",
        "<img alt=\"NC\" height=\"70px\" src=\"https://mirrors.creativecommons.org/presskit/icons/sa.xlarge.png\" align=\"left\" hspace=\"0px\" vspace=\"0px\">\n",
        "<img alt=\"SA\" height=\"70px\" src=\"https://creativecommons.org//wp-content/themes/vocabulary-theme/vocabulary/svg/cc/icons/cc-icons.svg#cc-logo\" align=\"left\" hspace=\"0px\" vspace=\"0px\">\n",
        "</p>\n",
        "\n",
        "<div align=\"right\">\n",
        "<h2> <b> Por: Julián Andrés Castillo G. </b> </h2>\n",
        "<a href=\"mailto:jandres.castillo@udea.edu.co\"> ✉ Julian Andres Castillo Grisales </a>\n",
        "<h2> <b> Por: Yony Fernando Ceballos. </b> </h2>\n",
        "<a href=\"mailto:yony.ceballos@udea.edu.co\"> ✉ Yony Fernando Ceballos </a>\n",
        "</div>\n",
        "\n",
        "<br>\n",
        "\n",
        "**El presente curso hace parte de la Ingeniería Industrial de la Universidad de Antioquia.**\n",
        "\n",
        "Imagenes y teoría tomado de:\n",
        "*   Banks, J. (2010). Discrete Event system Simulation. In Encyclopedia of Information Systems. https://doi.org/10.1016/b0-12-227240-4/00045-9\n",
        "---"
      ],
      "metadata": {
        "id": "FMVDg3BTipxe"
      }
    },
    {
      "cell_type": "markdown",
      "metadata": {
        "id": "Do7M0zF15B_j"
      },
      "source": [
        "#**Generación aleatoria de variables**\n",
        "\n",
        "Las variables se modelan como variables aleatorias con alguna distribución de probabilidad especificada, y existen procedimientos estadísticos estándar para estimar los parámetros de la distribución hipotética y para probar la validez del modelo estadístico asumido.\n",
        "\n",
        "El propósito es explicar e ilustrar algunas técnicas ampliamente utilizadas para generar variables aleatorias."
      ]
    },
    {
      "cell_type": "markdown",
      "metadata": {
        "id": "8jQj6E3tri_m"
      },
      "source": [
        "#**Distribución Generadora**\n",
        "\n",
        "# Importancia de la Distribución Uniforme para Generar Otras Distribuciones\n",
        "\n",
        "La distribución uniforme es la distribucion más importante en estadísticas y teoría de probabilidad. Se define por su constancia, ya que todos los eventos tienen la misma probabilidad de ocurrir dentro de un rango especificado. La importancia de la distribución uniforme, especialmente en el contexto de generar otras distribuciones, se puede describir de la siguiente manera:\n",
        "\n",
        "1. **Fundamento de la simulación de Monte Carlo:**\n",
        "   En técnicas de simulación, como el método de Monte Carlo, se generan números aleatorios con una distribución uniforme para después transformarlos y obtener números con otras distribuciones deseadas.\n",
        "\n",
        "2. **Transformación inversa:**\n",
        "   Dado que cualquier variable aleatoria continua tiene una función de distribución acumulada que va de 0 a 1, si generamos un número aleatorio $u$ de una distribución uniforme entre 0 y 1 y encontramos $x$ tal que $F(x) = u$ (usando la inversa de la FDA), obtenemos un número aleatorio con la distribución deseada.\n",
        "\n",
        "3. **Composición de otras distribuciones:**\n",
        "   A través de combinaciones y transformaciones de variables uniformes, es posible generar una amplia variedad de distribuciones. Por ejemplo, si sumas varias variables aleatorias uniformemente distribuidas, se aproxima a una distribución normal (de acuerdo con el teorema del límite central).\n",
        "\n",
        "4. **Base para pruebas estadísticas:**\n",
        "   La distribución uniforme es fundamental para pruebas de bondad de ajuste como el test de Kolmogorov-Smirnov, que compara la secuencia empírica de una muestra de datos con una secuencia teórica.\n",
        "\n",
        "5. **Generadores de números aleatorios:**\n",
        "   Muchos algoritmos de generación de números aleatorios producen números que siguen una distribución uniforme. Estos números luego se pueden transformar para simular otras distribuciones.\n",
        "\n",
        "6. **Fácil de entender y trabajar:**\n",
        "   La simplicidad de la distribución uniforme facilita su uso como punto de partida en muchos análisis y experimentos.\n",
        "\n",
        "7. **Homogeneidad:**\n",
        "   Dado que todos los valores en un rango específico tienen la misma probabilidad, es útil en situaciones donde no hay razón para dar más peso a un valor sobre otro.\n",
        "\n",
        "En resumen, la distribución uniforme es una herramienta esencial en estadísticas y teoría de probabilidad. Su simplicidad y propiedades la hacen ideal como punto de partida para generar y transformar en otras distribuciones.\n"
      ]
    },
    {
      "cell_type": "code",
      "source": [
        "import random as rnd\n",
        "import matplotlib.pyplot as plt\n",
        "import statistics as st\n"
      ],
      "metadata": {
        "id": "Vsg6pcQW56nY"
      },
      "execution_count": 17,
      "outputs": []
    },
    {
      "cell_type": "markdown",
      "metadata": {
        "id": "8rDFsgOR6922"
      },
      "source": [
        "##**Transformada Inversa**\n",
        "\n",
        "Nuestra fuente de numeros aleatorios es `Random --> random()` generando números aleatorios `[0,1)` uniformes $R_1, R_2, ..., R_i$.\n",
        "Cada $R_i$ tiene su respectiva $PDF$ y $CDF$ determinadas a continuación.\n",
        "*    PDF (Función de densidad de probabilidad)\n",
        ">*    $f_R(x) = \\begin{cases}1, & 0\\leq x \\leq 1\\\\0, & {en\\;otros\\; caso}\\end{cases}$\n",
        "\n",
        "*    CDF (Función de distribución acumulativa)\n",
        ">*    $F_R(x) = \\begin{cases}0, & x < 0\\\\x, & 0\\leq x \\leq 1\\\\ 1, & x > 1\\end{cases}$\n",
        "\n",
        "Computacionalmente, es la técnica más directa, pero no siempre la más eficiente.\n",
        "\n",
        "###**Pasos para realizar el procedimiento**\n",
        "\n",
        "El método de la transformada inversa puede utilizarse para simular variables aleatorias continuas, lo cual se logra mediante la función acumulativa $F(x)$ y la generación de números aleatorios, el método consiste en:\n",
        "1.    Paso 1: Definir la función de densidad $f(x)$ que represente la variable a modelar.\n",
        "2.    Paso 2: Calcular la función acumulativa $F(x)$ (Integrar)\n",
        "3.    Paso 3: Despejar la variable aleatoria $x$ y obtener la función acumulada inversa $F^{-1}(R)$\n",
        "4.    Paso 4: Generar variables aleatorias $x$, sustituyendo los valores con números aleatorios en la función acumulada inversa.\n",
        "\n",
        "*    $R$ = número aleatorio.\n",
        "*    $F(x)$ = función acumulada de probabilidad.\n",
        ">*   $f(x)=\\int_{-\\infty}^{x} f(x)dx = R$\n",
        ">>Despejando se tiene:\n",
        ">>*    $X = F^{-1}(R)$\n"
      ]
    },
    {
      "cell_type": "markdown",
      "metadata": {
        "id": "4NuXpC3E_kMA"
      },
      "source": [
        "###**Ejemplo Transformada inversa**\n",
        "\n",
        "$PDF = \\frac{x^2}{9} \\rightarrow 0\\leq x \\leq 3$\n",
        "\n",
        "Desarrolle un generador para dicha distribucion, genere 1000 valores aleatorios, compare la media de los valores generados con la media analítica.\n",
        "\n",
        "Solución:\n",
        "\n",
        "*    Media Analítica = $f(x)=\\int_{a}^{b} xf(x)dx$\n",
        ">*    $\\int_{0}^{3} x(\\frac{x^2}{9}) \\rightarrow \\int_{0}^{3} \\frac{x^3}{9} \\rightarrow  \\frac{x^4}{36}\\mid_0^3 \\rightarrow \\frac{3^4}{36}-0 = 2.25$\n",
        "\n",
        "*    Cálculo de la transformada inversa\n",
        ">*    $X = F^{-1}(R) \\rightarrow \\int\\frac{x^2}{9} \\rightarrow \\frac{x^3}{27}$\n",
        ">*    $\\frac{x^3}{27}= R \\rightarrow x^3=27R \\rightarrow x=\\sqrt[3]{27R} \\rightarrow x=3\\sqrt[3]{R}$\n",
        "\n",
        "\n"
      ]
    },
    {
      "cell_type": "code",
      "source": [
        "!pip install sympy"
      ],
      "metadata": {
        "id": "6Au3RF-jd56W",
        "colab": {
          "base_uri": "https://localhost:8080/"
        },
        "outputId": "3240e61d-9f02-47a4-d090-94467591d35c"
      },
      "execution_count": 18,
      "outputs": [
        {
          "output_type": "stream",
          "name": "stdout",
          "text": [
            "Requirement already satisfied: sympy in /usr/local/lib/python3.10/dist-packages (1.13.1)\n",
            "Requirement already satisfied: mpmath<1.4,>=1.1.0 in /usr/local/lib/python3.10/dist-packages (from sympy) (1.3.0)\n"
          ]
        }
      ]
    },
    {
      "cell_type": "markdown",
      "metadata": {
        "id": "l55WaOTsLX0y"
      },
      "source": [
        "##**La distribución exponencial**\n",
        "\n",
        "Una variable aleatoria $X$ es exponencialmente distribuida con parametro $\\lambda > 0$ y su PDF está dada por:\n",
        "\n",
        "*    $f(x) = \\begin{cases}\\lambda e^{-\\lambda x}, & x \\geq 0\\\\0, & {otros\\; caso}\\end{cases}$\n",
        "\n",
        "$\\lambda$ es una razón: llegadas por hora o servicios por minuto.\n",
        "\n",
        "La CDF de la distribución exponencial es la siguiente:\n",
        "*    $F(x) = \\int_{- \\infty}^x f(t)dt = \\begin{cases}1 - e^{-\\lambda x}, & x \\geq 0\\\\0, & x < 0\\end{cases}$\n",
        "\n",
        "$\\lambda$ se puede interpretar como el número medio de ocurrencias por unidad de tiempo. Por ejemplo, si los tiempos entre llegadas $X_1, X_2, X_3, ..., X_i$ tienen una distribución exponencial con razón $\\lambda$, entonces $\\lambda$ podría interpretarse como el número medio de llegadas por unidad de tiempo o la tasa de llegadas. Se debe tener en cuenta que, para cualquier $i, E(X_i) = \\frac{1}{\\lambda}$ se puede deducir que $\\frac{1}{\\lambda}$ es la media entre tiempos de llegada.\n",
        "\n",
        "###**Distribución exponencial paso a paso**\n",
        "\n",
        ">1.    Paso 1: Definir la función de densidad $f(x)$ que represente la variable a modelar.\n",
        ">2.    Paso 2: Calcular la CDF de la variable aleatoria deseada $X$.\n",
        ">*    Integrar la función de densidad $f(x)$\n",
        ">>Para la distribución exponencial, la CDF es $F(x) = 1- e^{-\\lambda x}, x > 0$\n",
        ">3.    Paso 3: Definir $F(X)=R$ para el rango de $X$\n",
        ">>Para la distribución exponencial es $R = 1- e^{-\\lambda x}, X \\geq 0$, $X$ es una variable aleatoria (con distribución exponencial para el presente caso) tal que $ 1- e^{-\\lambda x}$ es tambien una variable aleatoria llamada $R$ y posee una distribucion uniforme entre $[0,1)$.\n",
        ">4.    Paso 4: Solucionar $F(X) = R$ para $X$ en términos de $R$.\n",
        ">>Para la distribución exponencial, la solución es la siguiente:\n",
        ">><center> $1- e^{-\\lambda x} = R$</center>\n",
        ">><center> $e^{-\\lambda x} = 1-R$</center>\n",
        ">><center> ${-\\lambda X} = \\ln(1-R)$</center>\n",
        ">><center> $X = -\\frac{1}{\\lambda}\\ln(1-R)$</center>\n",
        ">>\n",
        ">>$X = -\\frac{1}{\\lambda}\\ln(1-R)$ la presente ecuación es llamada generador de variables aleatorias para la distribución exponencial. Esta ecuación es también escrita como $X = F^{-1}(R)$\n",
        ">5.    Paso 5: Generar números aleatorios uniformes $R_!, R_2, R_3, ..., R_i$ y calcular valores aleatorios deseados usando $X = -\\frac{1}{\\lambda}\\ln(1-R)$.\n",
        ">>Para el caso exponencial $F^{-1}(R) = -\\frac{1}{\\lambda}\\ln(1-R)$ por lo tanto,\n",
        ">>\n",
        ">><center> $X_i = -\\frac{1}{\\lambda}\\ln(1-R_i)$</center>\n",
        ">>Para $i = 1, 2, 3, ..., i$ la simplificación de esta ecuación es reemplazar $(1-R_i)$ por $R_i$ para quedar en:\n",
        ">><center> $X_i = -\\frac{1}{\\lambda}\\ln(R_i)$</center>\n",
        ">>Esta forma alternativa es justificada en tanto que $R_i$ y $1-R_i$ son ambas uniformemente distribuidas entre $[0,1)^*$.\n",
        "\n",
        "\n",
        "\\* Para Python el módulo `Random` y en especial el método `random()` produce números aleatorios entre cero (inclusive) y uno sin incluirlo.\n",
        "\n",
        "```python\n",
        "import random\n",
        "help(random.random)\n",
        "\n",
        "    Help on built-in function random:\n",
        "\n",
        "    random(...) method of random.Random instance\n",
        "        random() -> x in the interval [0, 1).\n",
        "```\n",
        "\n",
        "<img alt=\"Exponencial_TomadoDeBanks\" height=\"300px\" src=\"https://raw.githubusercontent.com/juliancastillo-udea/2023-02-Simulacion/main/Unidad2/Exponencial.png\" align=\"center\">"
      ]
    },
    {
      "cell_type": "code",
      "source": [
        "valorlambda = \"2.0\" #@param [\"0.1\", \"0.5\", \"1.0\", \"1.5\", \"2.0\"]\n",
        "Repeticiones = 1000 #@param {type:\"slider\", min:1000, max:10000, step:1000}"
      ],
      "metadata": {
        "id": "1jZDAel8nuNY",
        "cellView": "form"
      },
      "execution_count": 19,
      "outputs": []
    },
    {
      "cell_type": "code",
      "source": [],
      "metadata": {
        "id": "WJJadHKDkJyr"
      },
      "execution_count": 19,
      "outputs": []
    },
    {
      "cell_type": "markdown",
      "metadata": {
        "id": "HuP6Vm3AzTWs"
      },
      "source": [
        "##**La distribución uniforme**\n",
        "\n",
        "Considere una variable aleatoria $X$ la cual es uniformemente distribuida en el intervalo $[𝑎,𝑏]$. Una suposición razonable para generar x viene dada por:\n",
        "<h3>\n",
        "<center>$X = a+(b-a)R$</center>\n",
        "\n",
        "La PDF de $X$ es dada por:\n",
        "\n",
        "<center>$f(x) = \\begin{cases}\\frac{1}{b-a}, & a\\leq x \\leq b\\\\0, & {en\\;otros\\; caso}\\end{cases}$</center>\n",
        "\n",
        "\n",
        "La CDF de $X$ es dada por:\n",
        "\n",
        "<center>$F(x) = \\begin{cases}0, & x < a\\\\\\frac{x-a}{b-a}, & a\\leq x \\leq b\\\\ 1, & x > 1\\end{cases}$</center>\n",
        "\n",
        "Realizando la transformada inversa:\n",
        "\n",
        "<center>$F(x) = \\frac{X-a}{b-a}=R$</center>\n",
        "<center>$X = a + (b-a)R$</center>\n",
        "\n",
        "Su media y su varianza son las siguientes:\n",
        "\n",
        "<center>$Media = E(x) = \\frac{a+b}{2}$</center>\n",
        "<center>$Varianza = \\frac{(b-a)^2}{12}$</center>\n",
        "\n",
        "<img alt=\"Uniforme Tomado De Banks\" height=\"300px\" src=\"https://raw.githubusercontent.com/juliancastillo-udea/2023-02-Simulacion/main/Unidad2/Uniforme.png\" align=\"center\">"
      ]
    },
    {
      "cell_type": "code",
      "source": [
        "def Uniforme(a, b):\n",
        "    x = a + (b - a)*rnd.random()\n",
        "    return x\n",
        "rnd.uniform(10,20)\n",
        "dato = []\n",
        "for i in range(100000):\n",
        "    d = Uniforme(1,10)\n",
        "    dato.append(d)\n",
        "plt.hist(dato)\n",
        "plt.ylabel('Distribución')\n",
        "plt.xlabel('Clases')\n",
        "plt.show()\n",
        "print(st.mean(dato))\n",
        "print(st.variance(dato))"
      ],
      "metadata": {
        "id": "x9j7LS44o7Pf",
        "colab": {
          "base_uri": "https://localhost:8080/",
          "height": 484
        },
        "outputId": "f05e84ea-665f-4c5f-94fd-4d7cf962cfb5"
      },
      "execution_count": 20,
      "outputs": [
        {
          "output_type": "display_data",
          "data": {
            "text/plain": [
              "<Figure size 640x480 with 1 Axes>"
            ],
            "image/png": "[encoded data removed]"
          },
          "metadata": {}
        },
        {
          "output_type": "stream",
          "name": "stdout",
          "text": [
            "5.49137110850355\n",
            "6.735818666210492\n"
          ]
        }
      ]
    },
    {
      "cell_type": "markdown",
      "metadata": {
        "id": "dh_TlXDGCJkb"
      },
      "source": [
        "##**La distribución triangular**\n",
        "\n",
        "La distribución de probabilidad triangular tiene el comportamiento de incrementar la variable partiendo de un término $a$ (valor mínimo) hasta un término $b$ (moda), y luego disminuir a partir de $b$ (moda) hasta un término $c$ (valor máximo).\n",
        "Es una distribución continua acotada en ambos lados. La distribución triangular se utiliza cuando hay pocos o no hay datos disponibles. La distribución de probabilidad triangular se presenta en la siguiente figura:\n",
        "\n",
        "<img alt=\"TriangularBanks\" height=\"300px\" src=\"https://raw.githubusercontent.com/juliancastillo-udea/2023-02-Simulacion/main/Unidad2/Triangular.png\" align=\"center\">\n",
        "\n",
        "Para calcular las áreas de la distribución de probabilidad se hace lo siguiente:\n",
        "\n",
        ">*    $A = A_1 + A_2 = 1$\n",
        ">\n",
        ">*    $A_1 = \\frac{b-a}{c-a}$\n",
        ">\n",
        ">*    $A_2 = \\frac{c-b}{c-a}$\n",
        ">\n",
        ">*    $Area = \\frac{base*altura}{2} = 1$\n",
        ">\n",
        ">*    $A = \\frac{(c-a)h}{2} = 1$\n",
        "\n",
        "Generar variables aleatorias de la distribución triangular se realiza en dos maneras, dependiendo del intervalo $(a, b)$ y el intervalo $(b, c)$.\n",
        "\n",
        "*    En resumen la PDF seria como se muestra a continuación:\n",
        ">*    $f(x) = \\begin{cases} \\frac{2(x-a)}{(b-a)(c-a)}, & si\\;a \\leq x \\leq b\\\\\\ \\frac{2(c-x)}{(c-b)(c-a)}, & si\\;b < x \\leq c\\end{cases}$\n",
        ">\n",
        "> Donde $a \\leq b \\leq c$. La moda ocurre en $x=b$.\n",
        ">> $E(X) = \\frac{a+b+c}{3}$\n",
        ">>\n",
        ">> $Moda = b = 3E(X)-(a+c)$\n",
        "\n",
        "*    En resumen la CDF seria como se muestra a continuación:\n",
        ">*    $F(x) \\begin{cases}\n",
        "0, & x \\leq a \\\\\n",
        "\\frac{(x-a)^{2}}{(b-a)(c-a)}, & a \\leq x \\leq b \\\\\n",
        "1- \\frac{(c-x)^{2}}{(c-b)(c-a)}, & b \\leq x \\leq c \\\\\n",
        "1, & x \\geq c\n",
        "\\end{cases}$\n",
        "\n",
        "*    La generación de la variable triangular es:\n",
        ">*    $X = \\begin{cases} a + \\sqrt{((b-a)(c-a)R}, & si\\;a \\leq x \\leq \\frac{b-a}{c-a} \\\\\\ c - \\sqrt{(c-a)(c-b)(1-R)}, & si\\;a \\leq x \\leq \\frac{c-b}{c-a} \\end{cases}$\n",
        "\n",
        "Para generar variables aleatorias triangulares se necesitan los valores 𝑎, 𝑏 y 𝑐 que representan el valor mínimo, el valor mas probable y el valor máximo respectivamente.\n"
      ]
    },
    {
      "cell_type": "code",
      "source": [
        "def Triangular(a, b, c):\n",
        "    R = rnd.random()\n",
        "    if R <= ((b-a)/(c-a)):\n",
        "        a1 = ((c-a)*(b-a))*R\n",
        "        t = a + (a1**(1/2))\n",
        "    else:\n",
        "        a2 = ((1-R)*(c-b)*(c-a))\n",
        "        t = c - (a2**(1/2))\n",
        "    return t\n",
        "# Tarea probar la distribucion\n",
        "v = []\n",
        "for i in range(1000):\n",
        "    v.append(Triangular(1,3,6))\n",
        "plt.hist(v)\n",
        "plt.show()\n",
        "y = []\n",
        "for i in range(1000):\n",
        "    y.append(rnd.triangular(1,6,3))\n",
        "plt.hist(y)\n",
        "plt.show()\n"
      ],
      "metadata": {
        "id": "LpVczRFuszDg",
        "colab": {
          "base_uri": "https://localhost:8080/",
          "height": 843
        },
        "outputId": "bf74e211-6ed6-44fa-fe32-8592d88d6a10"
      },
      "execution_count": 21,
      "outputs": [
        {
          "output_type": "display_data",
          "data": {
            "text/plain": [
              "<Figure size 640x480 with 1 Axes>"
            ],
            "image/png": "[encoded data removed]"
          },
          "metadata": {}
        },
        {
          "output_type": "display_data",
          "data": {
            "text/plain": [
              "<Figure size 640x480 with 1 Axes>"
            ],
            "image/png": "[encoded data removed]"
          },
          "metadata": {}
        }
      ]
    },
    {
      "cell_type": "markdown",
      "metadata": {
        "id": "lo5hDDvO6rUW"
      },
      "source": [
        "##**La distribución Bernoulli**\n",
        "\n",
        "La PDF de la distribución Bernoulli está dada por :\n",
        "*    $p(x) = p^xq^{x-1} \\; para\\;toda\\;x\\;, x=0,1$\n",
        "*    $p$ probabilidad de exito\n",
        "*    $q$ probabilidad de fracaso = $1-p$\n",
        "*    Los valores de x son:\n",
        ">*    $x=0$ si la probabilidad es de $1-p$\n",
        ">*    $x=1$ si la probabilidad es de $p$\n",
        "\n",
        "La CDF es la siguiente:\n",
        ">*    $F(x) = \\begin{cases} 1-p, & si\\;x=0 \\\\\\ p, & si\\;x=1 \\end{cases}$\n",
        "\n",
        "Para generar variables aleatorias binarias se tiene:\n",
        ">*    $x = \\begin{cases} 0, & si\\;0 \\leq R \\leq 1-p \\\\\\ 1, & si\\;1-p < R \\leq 1 \\end{cases}$\n",
        "\n",
        "El parametro $p$ debe ser proporcionado y en caso contrario se tomara el valor esperado  (media) de la distribución de $0.5$.\n"
      ]
    },
    {
      "cell_type": "code",
      "source": [
        "def Bernoulli(p=0.5):\n",
        "    r = rnd.random()\n",
        "    if r < p:\n",
        "        return 1\n",
        "    else:\n",
        "        return 0\n",
        "# Tarea probar la distribucion\n",
        "q = []\n",
        "for _ in range(10000):\n",
        "    q.append(Bernoulli())\n",
        "plt.hist(q)\n",
        "plt.show()"
      ],
      "metadata": {
        "id": "AtngtrhKuP2q",
        "colab": {
          "base_uri": "https://localhost:8080/",
          "height": 430
        },
        "outputId": "dec29ebc-ea74-4446-ed17-b8fa6baecf13"
      },
      "execution_count": 22,
      "outputs": [
        {
          "output_type": "display_data",
          "data": {
            "text/plain": [
              "<Figure size 640x480 with 1 Axes>"
            ],
            "image/png": "[encoded data removed]"
          },
          "metadata": {}
        }
      ]
    },
    {
      "cell_type": "markdown",
      "metadata": {
        "id": "7ljcT0el_9vK"
      },
      "source": [
        "##**La distribución Binomial**\n",
        "\n",
        "Una distribucion Binomial existe cuando se satisfacen las siguientes condiciones:\n",
        "\n",
        "*    Se realiza un experimento $n$ veces.\n",
        "*    Cada experimento es independiente de los demas.\n",
        "*    El espacio de la prueba de cada experimento tiene dos elementos\n",
        "\n",
        "La PDF es la siguiente:\n",
        ">*    $p(x) = \\left(\\begin{array}{c}n\\\\ x\\end{array}\\right) p^xq^{n-x}, \\;para\\;todo\\;x, \\;x=0,1,2,3,...,n$\n",
        ">\n",
        ">\n",
        ">*    $p(x) = \\frac{n!}{x!(n-x)!}p^xq^{n-x}$\n",
        ">\n",
        ">Donde\n",
        ">>*    $n = numero\\;de\\;ensayos$\n",
        ">>*    $x = numero\\;de\\;exitos$\n",
        ">>*    $p = probabilidad\\;de\\;exito$\n",
        ">>*    $q = probabilidad\\;de\\;fracaso$\n",
        "\n",
        "###**La distribución Binomial - Método de Convolución**\n",
        "En ocasiones no es posible aplicar el método de la transformada inversa a distribuciones de probabilidad, debido principalmente a que algunas de ellas no tienen forma de integrarse, como el caso de la distribución normal, binomial, Erlang (suma de exponenciales), etcétera.\n",
        "\n",
        "En tal caso, se requiere la aplicación de algunas propiedades estadísticas como la propiedad de convolución, que permiten generar una distribución mediante la suma de distribuciones más sencillas, mediante la transformada $z$. Estos son procedimientos especiales para lograr expresiones matemáticas que generen las variables aleatorias deseadas.\n",
        "\n",
        "La variable aleatoria binomial con parámetros $n$ y $p$ puede ser generada a través de la suma de $n$ variables con distribución Bernoulli:\n",
        "*    $X$ = variable aleatoria binomial\n",
        "*    $X_i$ = variable aleatoria de Bernoulli\n",
        "\n",
        "Expresándose de la siguiente manera:\n",
        "\n",
        ">*    $X = \\sum_{i=1}^{n} X_i$\n"
      ]
    },
    {
      "cell_type": "code",
      "source": [
        "import random as rnd\n",
        "def Binomial(p, n):\n",
        "    sum = 0\n",
        "    for i in range(n):\n",
        "        sum+=Bernoulli(p)\n",
        "    return sum\n",
        "Binomial(0.5, 10)\n",
        "w = []\n",
        "for _ in range(1000000):\n",
        "    w.append(Binomial(0.5, 20))\n",
        "plt.hist(w)\n",
        "plt.show()"
      ],
      "metadata": {
        "id": "-arbEiVEuxNu",
        "colab": {
          "base_uri": "https://localhost:8080/",
          "height": 432
        },
        "outputId": "c70e6dd0-8d63-44f3-fcb1-7c9700bb1d42"
      },
      "execution_count": 23,
      "outputs": [
        {
          "output_type": "display_data",
          "data": {
            "text/plain": [
              "<Figure size 640x480 with 1 Axes>"
            ],
            "image/png": "[encoded data removed]"
          },
          "metadata": {}
        }
      ]
    },
    {
      "cell_type": "markdown",
      "metadata": {
        "id": "ytOhnk5TLiky"
      },
      "source": [
        "##**Método de Aceptación y Rechazo**\n",
        "\n",
        "\n",
        "El método de Aceptación y Rechazo está basado en la función de densidad $f(x)$ y no en la función de distribución $F(x)$, como el de la transformación inversa.\n",
        "\n",
        "Para poder usar este método se requiere que la función de densidad sea acotada y que el rango de variación de la variable aleatoria sea finito, esto es,  $𝑎 ≤ 𝑥 ≤ 𝑏$\n",
        "\n",
        "El método se basa en encerrar la función de densidad dentro de un rectángulo cuya altura es el valor máximo de dicha función ($M$) y cuya base es el rango de variación de la variable aleatoria (entre $a$ y $b$), luego se generan parejas de números aleatorios, y aceptar aquellas parejas que queden bajo la curva definida por la función de densidad de la variable de interés.\n",
        "\n",
        "###**Pasos del Método de Aceptación y Rechazo**\n",
        "Se utilizará a $M$ como el valor máximo de $f(x)$ para definir si aceptamos o rechazamos cada valor aleatorio $x$ generado y que siga la distribución $f(x)$ calculando una probabilidad para aceptar a $x$ como un numero que siga la distribución $f(x)$.\n",
        "\n",
        ">**Pasos**\n",
        ">>1.   Calcular $M=max(f_{x}(x))$\n",
        ">>>*   $x \\in (a,b)$\n",
        ">>2.   Calcular $g(x)=\\frac{(f_{x}(x))}{M}$\n",
        ">>3.   Generar dos numeros aleatorios $r_1$ y $r_2$\n",
        ">>4.   Generar $x = a+(b-a)r_1$\n",
        ">>5.   Si $r_2 \\leq g(x)$  se acepta $x$ de lo contrario regresa a $1$.\n",
        "\n",
        "<img alt=\"AceptacionRechazo\" height=\"300px\" src=\"https://raw.githubusercontent.com/juliancastillo-udea/2023-02-Simulacion/main/Unidad2/AceptacionRechazo.png\" align=\"center\">\n"
      ]
    },
    {
      "cell_type": "markdown",
      "metadata": {
        "id": "5apSg7GLyakz"
      },
      "source": [
        "\n",
        "###**Ejemplo Método Aceptación y Rechazo**\n",
        "\n",
        "1.   $Sea\\;f(x) = 30x(1-x)^4 \\rightarrow \\forall x \\in [0,1]$\n",
        "2.   $Sea\\;g(x) = max(f(x)) \\; \\forall x \\in [0,1]$\n",
        ">*   Se puede encontrar mediante procesos analíticos o mediante métodos de búsqueda\n",
        ">>*   Analitico.\n",
        ">>>*   $f'(x)=30(1-x)^4 - 120x(1-x)^3$\n",
        ">>>*   $f'(x)=0\\rightarrow\\frac{1}{5} \\rightarrow f(\\frac{1}{5})=2,4576$\n",
        "\n",
        "Algoritmo mediante metodo de busqueda $\\downarrow$\n",
        "\n"
      ]
    },
    {
      "cell_type": "code",
      "source": [],
      "metadata": {
        "id": "F3Avy7UZtupZ"
      },
      "execution_count": 23,
      "outputs": []
    },
    {
      "cell_type": "markdown",
      "metadata": {
        "id": "VHNvJPoPgjsL"
      },
      "source": [
        "##**Distribución [Poisson](https://translate.google.com/?sl=fr&tl=es&text=poisson&op=translate&hl=es)**\n",
        "\n",
        "\n",
        "La distribución de Poisson se aplica en aquellos procesos de conteo en los cuales el número de eventos depende únicamente de la longitud del intervalo de tiempo. Por ejemplo, el número de personas que llegan a recibir servicio en un intervalo de tiempo fijo, el número de llamados por minuto que entran a un conmutador, el número de defectos por metro de tela, etc.\n",
        "\n",
        "Para generar variables aleatorias que sigan una distribución de Poisson, no es posible usar el método de la transformada inversa, ya que $F(x)$ no tiene una forma explícita. El método más común para generar una variable Poisson es usando la relación que existe entre las distribuciones de Poisson y la exponencial. Esta relación establece que \"si el número de eventos que ocurren en un intervalo de tiempo 𝒕 es un proceso de Poisson con parámetro 𝝀, entonces el tiempo entre la ocurrencia de dos eventos sucesivos sigue una distribución exponencial, con media (1/𝝀)\".\n",
        "\n",
        "La variable aleatoria exponencial puede representar:\n",
        "*   La duración de un servicio.\n",
        "*   El tiempo entre llegadas de clientes a un sistema.\n",
        "*   El tiempo entre fallas de un componente (la duración del componente).\n",
        "\n",
        "La variable aleatoria Poisson puede representar:\n",
        "*   El número de personas que llegan a recibir servicio en un intervalo de tiempo fijo.\n",
        "*   El número de llamados por minuto que entran a un conmutador.\n",
        "*   El número de defectos por metro de tela.\n"
      ]
    },
    {
      "cell_type": "markdown",
      "metadata": {
        "id": "SQScgDcBhZT9"
      },
      "source": [
        "###**Distribución Poisson - Detalle y ejecución**\n",
        "\n",
        "Considere eventos aleatorios como la llegada de correos electrónicos a un servidor, la entrada de llamadas a un centro de atención telefónica, la llegada de personas a una tienda entre muchos otros. Estos eventos puedes ser descritos con una función que cuente llamada $N(t)$ definida para todo $t \\geq 0$. Esta función representa el número de eventos ocurridos en el tiempo $[0,t]$. El tiempo cero es cuando la observación comienza sin importar si una llegada ocurre en ese momento.\n",
        "Para cada intervalo $[0,t]$, el valor $N(t)$ es una observación  de una variable aleatoria donde la única opción para los valores de $N(t)$ son valores enteros $0, 1, 2, 3, …$\n",
        "El proceso de contado,$\\left\\lbrace N(t), t \\geq 0 \\right\\rbrace$, es denominado un proceso Poisson con tasa media $\\lambda$ si se cumplen las siguientes suposiciones.\n",
        "1.\tLas llegadas se producen de una en una.\n",
        "2.\t$\\left\\lbrace N(t), t \\geq 0 \\right\\rbrace$ tiene incrementos estacionarios: La distribución del número de llegadas entre $t$ y $t + s$ depende solo de la longitud del intervalo $s$, no del punto de partida $t$. Por lo tanto, las llegadas son completamente aleatorias sin períodos de prisa o holgura.\n",
        "3.\t$\\left\\lbrace N(t), t \\geq 0 \\right\\rbrace$ incrementos independientes: el número de llegadas durante los intervalos de tiempo no superpuestos son variables aleatorias independientes. Por lo tanto, un número grande o pequeño de llegadas en un intervalo de tiempo no tiene ningún efecto en el número de llegadas en intervalos de tiempo posteriores. Las llegadas futuras se producen completamente al azar, independientemente del número de llegadas en intervalos de tiempo pasados.\n",
        "\n",
        "Si las llegadas se producen de acuerdo con un proceso de Poisson, cumpliendo los tres supuestos anteriores, se puede demostrar que la probabilidad de que $N(t)$ sea igual a n está dada por\n",
        "\n",
        "<h1>\n",
        "$p(x)=\\frac{e^{-\\lambda t}{(\\lambda t})^2}{x!} \\ \\  \\ para \\ t \\geq 0 \\  \\ y,  \\ n=0,1,2,3,...$\n",
        "\n",
        "</h1>\n",
        "\n",
        "Para $N(t)$ la distribución de Poisson con el parámetro $\\alpha = \\lambda t$ su media y varianza están dadas por\n",
        "\n",
        "$E\\left[N(t)\\right]=\\mu = \\lambda t = V\\left[N(t)\\right]$\n",
        "\n",
        "La formula para la CDF es:\n",
        "\n",
        "<h1>\n",
        "$F(x)=P(X \\leq x) = \\sum_{j=0}^{x} \\frac{e^{- \\lambda t}{(\\lambda t})^j}{j!}$\n",
        "</h1>"
      ]
    },
    {
      "cell_type": "markdown",
      "metadata": {
        "id": "2rRNLdbuj-7w"
      },
      "source": [
        "###**Distribución Poisson - Formal**\n",
        "\n",
        "En su forma más conocida la distribución de densidad de probabilidad de Poisson se expresa de la siguiente manera:\n",
        "\n",
        "$p(x)=\\frac{e^{-\\lambda}{\\lambda}^x}{x!}$\n",
        "\n",
        "Donde $x$ se denomina como variable aleatoria con distribución Poisson. El parámetro de esta distribución es 𝜆. Para simular valores de una variable aleatoria de Poisson de parámetro 𝜆, se partirá de valores simulados en una variable aleatoria exponencial.\n",
        "\n"
      ]
    },
    {
      "cell_type": "markdown",
      "metadata": {
        "id": "sqhGwDqEk_2u"
      },
      "source": [
        "###**Distribución Poisson - Aceptación y Rechazo**\n",
        "\n",
        "Usando el método de aceptación y rechazo:\n",
        "En efecto, si ocurren $x$ sucesos en el intervalo $[0, 𝑡]$, la suma de los tiempos transcurridos entre los $x$ sucesos debe menor que $𝑡$. Así, si $𝑋_𝑖$ es el tiempo transcurrido entre los $x$ sucesos $𝑖 – 1$ e $𝑖$, se tiene:\n",
        "\n",
        "$\\sum_{i=1}^{x} X_i \\leq t$\n",
        "\n",
        "Así, como los $X_i$ siguen una distribución exponencial con parámetro 𝜆, se simulan valores sucesivos de $X_i$ hasta que:\n",
        "\n",
        "$\\sum_{i=1}^{x} X_i > t$\n",
        "\n",
        "Es decir, $K$ es el numero de sucesos que hacen:\n",
        "\n",
        "$\\sum_{i=1}^{k-1} X_i \\leq t < \\sum_{i=1}^{k} X_i $\n",
        "\n",
        "Por tanto, han ocurrido $𝐾 – 1$ sucesos antes del instante $𝑡$ y el $𝑘 –é𝑠𝑖𝑚𝑜$ ocurre en un tiempo posterior a $𝑡$. Por consiguiente, el valor $𝑥$ , simulado de una variable aleatoria de Poisson de parámetro $𝜆$, será $𝑥 = 𝐾 – 1$. Si se desea, como es lo habitual, simular valores de una variable aleatoria de Poisson de parámetro $𝜆$, entonces se considera el intervalo $(0, 𝑡]$ y $𝑥 = 𝑘 – 1$ será el valor simulado de una variable aleatoria de Poisson de parámetro 𝜆, si se verifica lo siguiente:\n",
        "\n",
        "$\\sum_{i=1}^{k} X_i > t$\n",
        "\n",
        "Además, los valores simulados de una variable aleatoria exponencial con parámetro 𝜆 se obtienen a través de la expresión:\n",
        "\n",
        "$X_i=-\\frac{1}{\\lambda}Ln(1-R_i)$\n",
        "\n",
        "Donde $𝑅_𝑖$, es el numero aleatorio $𝑖$, se tiene que el valor simulado en la variable aleatoria Poisson con parámetro 𝜆 es $𝑥=𝑘−1$, si se cumple:\n",
        "\n",
        "$\\sum_{i=1}^{k}-\\frac{1}{\\lambda}Ln(1-R_i)$\n",
        "\n"
      ]
    },
    {
      "cell_type": "code",
      "source": [],
      "metadata": {
        "id": "XAfev2_d387B"
      },
      "execution_count": 23,
      "outputs": []
    },
    {
      "cell_type": "markdown",
      "metadata": {
        "id": "jF20DIamongN"
      },
      "source": [
        "##**Distribución Normal**\n",
        "\n",
        "En teoría de la probabilidad, una distribución normal es un tipo de distribución de probabilidad continua para una variable aleatoria de valor real. La forma general de su función de densidad de probabilidad es:\n",
        "\n",
        "${f(x)={\\frac {1}{\\sigma {\\sqrt {2\\pi }}}}e^{-{\\frac {1}{2}}\\left({\\frac {x-\\mu }{\\sigma }}\\right)^{2}}}$\n",
        "\n",
        "El parámetro $\\mu$ es la media o expectativa de la distribución (y su mediana y moda), mientras que el parámetro $\\sigma$ es su desviación estándar. La varianza de la distribución es $\\sigma ^{2}$. Se dice que una variable aleatoria con una distribución gaussiana está distribuida normalmente y se denomina desviación normal.\n",
        "\n",
        "El método de Box-Muller utiliza dos números aleatorios independientes U y V distribuidos uniformemente en $(0,1)$. Luego las dos variables aleatorias X e Y.\n",
        "\n",
        "$X={\\sqrt {-2\\ln U}}\\,\\cos(2\\pi V), \\ Y={\\sqrt {-2\\ln U}}\\,\\sin(2\\pi V)$\n",
        "\n",
        "Ambas ($X$ e $Y$) tendrán la distribución normal estándar y serán independientes. Esta formulación surge porque para un vector aleatorio normal bivariado ($X, Y$) la normal al cuadrado $X2 + Y2$ tendrá la distribución chi-cuadrado con dos grados de libertad, que es una variable aleatoria exponencial fácilmente generada correspondiente a la cantidad $−2ln(U)$ en estas ecuaciones; y el ángulo se distribuye uniformemente alrededor del círculo, elegido por la variable aleatoria $V$."
      ]
    },
    {
      "cell_type": "code",
      "source": [],
      "metadata": {
        "id": "N0gLZZaFayYO"
      },
      "execution_count": 23,
      "outputs": []
    }
  ]
}
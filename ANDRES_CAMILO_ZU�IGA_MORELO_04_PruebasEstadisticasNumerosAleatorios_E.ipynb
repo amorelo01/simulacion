{
  "nbformat": 4,
  "nbformat_minor": 0,
  "metadata": {
    "colab": {
      "provenance": [],
      "include_colab_link": true
    },
    "kernelspec": {
      "name": "python3",
      "display_name": "Python 3"
    },
    "language_info": {
      "name": "python"
    }
  },
  "cells": [
    {
      "cell_type": "markdown",
      "metadata": {
        "id": "view-in-github",
        "colab_type": "text"
      },
      "source": [
        "<a href=\"https://colab.research.google.com/github/amorelo01/simulacion/blob/main/ANDRES_CAMILO_ZU%EF%BF%BDIGA_MORELO_04_PruebasEstadisticasNumerosAleatorios_E.ipynb\" target=\"_parent\"><img src=\"https://colab.research.google.com/assets/colab-badge.svg\" alt=\"Open In Colab\"/></a>"
      ]
    },
    {
      "cell_type": "markdown",
      "source": [
        "<p><img alt=\"UdeA\" height=\"150px\" src=\"https://upload.wikimedia.org/wikipedia/commons/archive/f/fb/20161010213812%21Escudo-UdeA.svg\" align=\"left\" hspace=\"10px\" vspace=\"0px\"></p>\n",
        "<img alt=\"CC\" height=\"150px\" src=\"https://upload.wikimedia.org/wikipedia/commons/thumb/b/b9/Ingenier%C3%ADa_Industrial_UdeA.png/1026px-Ingenier%C3%ADa_Industrial_UdeA.png\" align=\"right\" hspace=\"0px\" vspace=\"0px\">\n",
        "<br><br>\n",
        "<p>\n",
        "<h1><center><b> Pruebas estadísticas para números aleatorios </b></center></h1>\n",
        "<br>\n",
        "<h1><center><b> Student Edition 🤓🤓🤓🤓 </b></center></h1>\n",
        "<br>\n",
        "<hr size=10 noshade color=\"green\">\n",
        "</p>\n",
        "<p>\n",
        "<img alt=\"CC\" height=\"70px\" src=\"https://mirrors.creativecommons.org/presskit/icons/by.xlarge.png\" align=\"left\" hspace=\"0px\" vspace=\"0px\">\n",
        "<img alt=\"Attribution\" height=\"70px\" src=\"https://mirrors.creativecommons.org/presskit/icons/nc.xlarge.png\" align=\"left\" hspace=\"0px\" vspace=\"0px\">\n",
        "<img alt=\"NC\" height=\"70px\" src=\"https://mirrors.creativecommons.org/presskit/icons/sa.xlarge.png\" align=\"left\" hspace=\"0px\" vspace=\"0px\">\n",
        "<img alt=\"SA\" height=\"70px\" src=\"https://creativecommons.org//wp-content/themes/vocabulary-theme/vocabulary/svg/cc/icons/cc-icons.svg#cc-logo\" align=\"left\" hspace=\"0px\" vspace=\"0px\">\n",
        "</p>\n",
        "\n",
        "<div align=\"right\">\n",
        "<h2> <b> Por: Julián Andrés Castillo G. </b> </h2>\n",
        "<a href=\"mailto:jandres.castillo@udea.edu.co\"> ✉ Julian Andres Castillo Grisales </a>\n",
        "<h2> <b> Por: Yony Fernando Ceballos. </b> </h2>\n",
        "<a href=\"mailto:yony.ceballos@udea.edu.co\"> ✉ Yony Fernando Ceballos </a>\n",
        "</div>\n",
        "\n",
        "<br>\n",
        "\n",
        "**El presente curso hace parte de la Ingeniería Industrial de la Universidad de Antioquia.**\n",
        "\n",
        "---"
      ],
      "metadata": {
        "id": "IJDsGvCKbjQm"
      }
    },
    {
      "cell_type": "code",
      "source": [
        "import pandas as pd\n",
        "import random as rnd\n",
        "import numpy as np\n",
        "import matplotlib.pyplot as plt"
      ],
      "metadata": {
        "id": "-_HdEzT7bjQt"
      },
      "execution_count": null,
      "outputs": []
    },
    {
      "cell_type": "markdown",
      "source": [
        "# *Recordemos los generadores congruenciales*"
      ],
      "metadata": {
        "id": "GmKDiikRbjQt"
      }
    },
    {
      "cell_type": "markdown",
      "source": [
        "# **Generadores Congruenciales**\n",
        "\n",
        "Estos son los métodos que se usan actualmente, bien sea en su forma original, o mediante a combinación de diferentes generadores.\n",
        "Los métodos congruenciales para generar números aleatorios son completamente determinísticos debido a que el proceso aritmético involucrado en el cálculo determina unívocamente cada término de la secuencia de números. En efecto, existen fórmulas para calcular por adelantado el i -ésimo término de la secuencia ${\\{𝑥_0,𝑥_1,𝑥_2,…,𝑥_𝑖,….\\}}$ sin que se hayan calculado los términos anteriores.\n",
        "\n",
        "Aunque la secuencia de números así generada no sea estrictamente aleatoria, puede considerarse como tal si satisface un conjunto de pruebas estadísticas sobre aleatoriedad, es decir, si se puede demostrar estadísticamente que los números generados se distribuyen uniformemente y son independientes.\n",
        "\n"
      ],
      "metadata": {
        "id": "-Z7245HqbjQt"
      }
    },
    {
      "cell_type": "markdown",
      "source": [
        "## **Método Congruencial**\n",
        "\n",
        "Los métodos congruenciales están basados en la relación fundamental de congruencia que puede expresarse por medio de la siguiente ecuación recursiva:\n",
        "\n",
        "<h1>\n",
        "$x_i = (a*x_{i-1}+C) \\ Módulo \\ M$\n",
        "\n",
        "</h1>\n",
        "\n",
        "Donde:\n",
        "*   $a, \\ x_{i-1}, \\ C \\ y \\ M$ Son enteros no negativos\n",
        "*   $a, \\ x_{i-1}, \\ C \\ < \\ M$\n",
        "*   $M$ debe ser $2^k$ con $k$ entero"
      ],
      "metadata": {
        "id": "c_Ghrt3WbjQt"
      }
    },
    {
      "cell_type": "markdown",
      "source": [
        "Para poder entender claramente la relación fundamental de congruencia y su utilización en la generación de números aleatorios es necesario tener en cuenta las siguientes definiciones.\n",
        "\n"
      ],
      "metadata": {
        "id": "Go_gMhhqbjQt"
      }
    },
    {
      "cell_type": "markdown",
      "source": [
        "## **Resto y Residuo**\n",
        "\n",
        "><img alt=\"CC\" height=\"200px\" src=\"https://raw.githubusercontent.com/juliancastillo-udea/2022-01-Simulacion/main/Unidad2/RestoResiduo1.png\" align=\"left\" hspace=\"0px\" vspace=\"0px\">\n",
        "\n",
        "><img alt=\"CC\" height=\"200px\" src=\"https://raw.githubusercontent.com/juliancastillo-udea/2022-01-Simulacion/main/Unidad2/RestoResiduo2.png\" align=\"left\" hspace=\"0px\" vspace=\"0px\">"
      ],
      "metadata": {
        "id": "rMzfVqRPbjQt"
      }
    },
    {
      "cell_type": "markdown",
      "source": [
        "## **Relación de Congruencia**\n",
        "\n",
        "Dos enteros $A$ y $B$ son congruentes con módulo $M$ si su diferencia es un múltiplo de $M$. La relación de congruencia se expresa mediante la notación $A \\equiv B \\rightarrow Mod \\ M$, que se lee \"$A$ es congruente con $B$ módulo de $M$\". El hecho de que dos enteros $A$ y $B$ sean congruentes módulo $M$ significa que:\n",
        "1.   $\\mid A-B\\mid$ es divisible por $M$, es decir, $\\frac{\\mid A-B\\mid}{M}=entero=k$\n",
        "2.   $A$ y $B$ generan el mismo residuo al ser divididas por el módulo $M$, es decir, $Residuo \\left( \\frac{A}{M} \\right)=Residuo \\left( \\frac{B}{M} \\right)$\n",
        "---\n",
        ">Ejemplo: $127$ y $238$ son congruentes módulo 100.\n",
        ">>$Residuo \\left( \\frac{127}{100} \\right)=27$\n",
        ">>$Residuo \\left( \\frac{238}{100} \\right)=38$\n",
        ">>\n",
        ">>Resultado: $127$ y $238$ **NO** son congruentes módulo 100\n",
        "---\n",
        ">Ejemplo: $115$ y $435$ son congruentes módulo 80.\n",
        ">>$Residuo \\left( \\frac{115}{80} \\right)=35$\n",
        ">>$Residuo \\left( \\frac{435}{80} \\right)=35$\n",
        ">>\n",
        ">>Resultado: $127$ y $238$ **SI** son congruentes módulo 100\n",
        ">>\n",
        ">>Aplicando la primera definición se tiene:\n",
        ">>$\\frac{\\mid 435-115\\mid}{80}=\\frac{320}{80}=4$\n",
        ">>\n",
        ">>$115 \\equiv 435 \\ mod \\ 80$\n",
        "---"
      ],
      "metadata": {
        "id": "2HLp0ztrbjQt"
      }
    },
    {
      "cell_type": "markdown",
      "source": [
        "¿Cómo encontrar un número $B$ que sea congruente con otro número dado $A$ módulo $M$?\n",
        "\n",
        "El método mas sencillo sería dividir el número $A$ por el módulo $M$ y tomar el residuo como el número $B$ buscado, o también, tomar el residuo mas un número entero $k$ de veces el módulo o menos un número entero de veces el módulo. Esto ya que si se divide $Residuo \\left( \\frac{A}{M} \\right)=k*M$ por el módulo $M$ se obtiene el mismo residuo.\n",
        ">\n",
        ">$B \\equiv Residuo \\left( \\frac{A}{M} \\right) \\equiv Residuo \\left( \\frac{A}{M} \\right) +M \\equiv Residuo \\left( \\frac{A}{M} \\right) + 2M,...,\\equiv Residuo \\left( \\frac{A}{M} \\right) + k*M$\n",
        ">\n",
        ">Ejemplo:\n",
        ">>$55 \\equiv 5 \\ mod \\ 10 → 55 \\equiv 15  \\ mod \\  10→55 \\equiv 25  \\ mod \\  10→55 \\equiv 95  \\ mod \\  10→55≡185  \\ mod \\  10$\n",
        "\n",
        "Otra forma sería sumarle o restarle $k$ veces el módulo al número dado $A$. Si a un número $A$ se le suma o se le resta un número entero de veces el módulo la relación de congruencia no cambia ya que el residuo sigue siendo el mismo siendo $k$ entero.\n",
        ">\n",
        ">$𝐴 \\equiv (𝐴+𝑀) \\ mod \\  𝑀 \\equiv 𝐴 \\equiv (𝐴−𝑀) \\ mod \\  𝑀 \\equiv 𝐴 \\equiv (𝐴+2𝑀) \\ mod \\  𝑀 \\equiv 𝐴 \\equiv (𝐴−2𝑀) \\ mod \\  𝑀 \\equiv 𝐴 \\equiv (𝐴±𝑘𝑀) \\ mod \\  𝑀$\n",
        "\n",
        "Para encontrar un número que sea congruente con otro número negativo basta con sumarle el módulo cuantas veces sea necesario hasta que el número se vuelva positivo.\n",
        "\n",
        "Para un número dado $A$ existen muchos otros números que sean congruentes con $A$ módulo $M$, como se observó anteriormente. Sin embargo, sólo existe un entero no negativo menor que $M$, (el residuo) que sea congruente con $A$ Módulo $M$, y es el que se usará para la generación de números aleatorios. Este aspecto se formaliza mediante la siguiente definición.\n",
        "\n",
        "\n",
        "\n",
        "\n"
      ],
      "metadata": {
        "id": "-lZOOaCnbjQt"
      }
    },
    {
      "cell_type": "markdown",
      "source": [
        "## **Generador Congruencial**\n",
        "\n",
        "Para un valor dado $A$ el menor entero positivo $m$ que sea congruente con $A$ módulo $M$ $(m \\equiv A \\ mod \\ M)$ recibe el nombre de \"residuo de $A$ módulo $M$\". Para un número dado $m$ existen entonces $M$ residuos diferentes $\\{0, 1, 2,…, M−2, M−1\\}$\n",
        "Al conjunto de números enteros mutuamente congruentes con un residuo $M$ se le denomina \"Clase residual módulo $M$”.\n",
        "\n",
        "Retomando la relación fundamental de congruencia tenemos que:\n",
        "$x_i \\equiv (a*x_{i-1}+C) \\ Módulo \\ M$\n",
        "\n",
        "Entonces para generar números aleatorios mediante esta relación, el valor de $x_i$ será el residuo módulo $M$ de la operación\n",
        "será el residuo módulo M de la operación $a*x_{i-1}+C$, es decir:\n",
        "\n",
        "$x_i = Residuo (a*x_{i-1}+C) \\ Módulo \\ M → 0 ≤ x_i < M $\n",
        "\n",
        "Entonces:\n",
        "Se tiene que $0 ≤ x_i < M $, entonces de la secuencia de enteros 𝑥_𝑖 se pueden obtener números racionales en el intervalo $(0,1)$ (números aleatorios) dividiendo $x_i$ por el módulo $M$, esto es,\n",
        "$R_i = x_i/M → 0≤ r_i < 1$\n",
        "El valor $M$ recibe el nombre de módulo, $a$ es el multiplicador, $C$ la constante aditiva y $x_0$ la semilla.\n",
        "\n"
      ],
      "metadata": {
        "id": "i5slXOm_bjQu"
      }
    },
    {
      "cell_type": "markdown",
      "source": [
        "### **Ejemplo Congruencial**\n",
        "\n",
        "Usando --> $x_i = (ax_{i-1} + C) \\ Mod \\ M$\n",
        "Por ejemplo, si $M=100$, $a = 13$, $C = 7$ y $x_0= 3$ se tiene:\n",
        "$x_1 \\equiv  13 * 03 + 7 \\ mod \\  100  \\equiv 0046 \\ mod \\  100 =46 → R_1  =46/100 = 0.46$\n",
        "$x_2 \\equiv  13 * 46 + 7 \\ mod \\  100  \\equiv 0605 \\ mod \\  100 =05 → R_2  =05/100 = 0.05$\n",
        "$x_3 \\equiv  13 * 05 + 7 \\ mod \\  100  \\equiv 0072 \\ mod \\  100 =72 → R_3  =72/100 = 0.72$\n",
        "$x_4 \\equiv  13 * 72 + 7 \\ mod \\  100  \\equiv 0943 \\ mod \\  100 =43 → R_4  =43/100 = 0.43$\n",
        "$x_5 \\equiv  13 * 43 + 7 \\ mod \\  100  \\equiv 0566 \\ mod \\  100 =66 → R_5  =66/100 = 0.66$\n",
        "$x_6 \\equiv  13 * 66 + 7 \\ mod \\  100  \\equiv 0865 \\ mod \\  100 =65 → R_6  =65/100 = 0.65$\n",
        "$x_7 \\equiv  13 * 65 + 7 \\ mod \\  100  \\equiv 0852 \\ mod \\  100 =52 → R_7  =52/100 = 0.52$\n",
        "$x_8 \\equiv  13 * 52 + 7 \\ mod \\  100  \\equiv 0683 \\ mod \\  100 =83 → R_8  =83/100 = 0.83$\n",
        "$x_9 \\equiv  13 * 83 + 7 \\ mod \\  100  \\equiv 1086 \\ mod \\  100 =86 → R_9  =83/100 = 0.86$\n",
        "\n",
        "\n"
      ],
      "metadata": {
        "id": "B80Mk8GJbjQu"
      }
    },
    {
      "cell_type": "markdown",
      "source": [
        "De acuerdo con los datos y dada la semilla $x_0$, las constantes multiplicativa $a$ y aditivas $C$ en conjunto con el módulo $M$, la relación de congruencia permite obtener cualquier término de la secuencia $\\{x_1,x_2,x_3,…,x_𝑖\\}$\n",
        "Al realizar la operación $ax_{𝑖−1}$ puede tomarse como valor de $x_{𝑖−1}$ el residuo de la operación anterior o el número completo sin reducir al residuo, y los resultados no cambian, ya que el número completo sin reducir contiene el residuo mas un número entero de veces el módulo.\n"
      ],
      "metadata": {
        "id": "FByrEmbDbjQu"
      }
    },
    {
      "cell_type": "markdown",
      "source": [
        "### **El Período**\n",
        "\n",
        "El período de la secuencia depende del módulo $M$. El período siempre existirá y su valor máximo depende de $M$, y el que se logre ese valor máximo dependerá de la adecuada selección de los parámetros del generador.\n",
        "Sin embargo, el valor máximo no siempre será $h=M$ en todos los casos. Mediante el empleo de diferentes versiones de la relación fundamental de congruencia se han desarrollado varios métodos para generar números aleatorios. El objetivo de cada uno de los métodos es la generación, en un tiempo mínimo, de secuencias con un período máximo. Entre los principales están el mixto, multiplicativo y métodos compuestos.\n"
      ],
      "metadata": {
        "id": "R8UL2DMcbjQu"
      }
    },
    {
      "cell_type": "markdown",
      "source": [
        "### **Método congruencial multiplicativo (c = 0)**\n",
        "\n",
        "Calcula una secuencia ${x_i}$ de enteros no negativos cada uno de los cuales es menor que $M$ mediante la relación ${x_i} ≡ ax{i-1} \\ Mod \\ M$.\n",
        "Es un caso especial de la relación de congruencia en que la constante aditiva toma el valor de cero $(C = 0)$. Por lo general, este método se comporta estadísticamente de una manera muy satisfactoria, es decir, las secuencias generadas se distribuyen uniformemente y no están correlacionadas. Sin embargo, tiene un período máximo menor que $M$, pero se pueden imponer condiciones a $x_0$ y $a$ de tal forma que se garantice el período máximo. Desde el punto de vista computacional es el más rápido de todos.\n"
      ],
      "metadata": {
        "id": "Nsg9TVyzbjQu"
      }
    },
    {
      "cell_type": "markdown",
      "source": [
        "### **Método congruencial mixto o lineal**\n",
        "\n",
        "Genera secuencias de números mediante la relación fundamental de congruencia en su forma original tomando $C > 0$.\n",
        "> $x_i ≡ (ax_{i-1} + C) \\ Mod \\ M$ --> $C>0$\n",
        "\n",
        "Las condiciones estadísticas de las secuencias generadas por este método son generalmente buenas, aunque en ciertos casos el comportamiento resulta inaceptable, razón por la cual el generador debe ser siempre validado estadísticamente. El período máximo es $h=M$.\n",
        "$M$ debe ser $2^𝑘→𝑘 \\ 𝑒𝑛𝑡𝑒𝑟𝑜$\n",
        "\n"
      ],
      "metadata": {
        "id": "gdxIUe5GbjQu"
      }
    },
    {
      "cell_type": "markdown",
      "source": [
        "### **Método congruencial aditivo**\n",
        "\n",
        "Genera secuencias de números mediante una secuencia de $n$ números enteros $𝑥_1, 𝑥_2, 𝑥_3,…, 𝑥_𝑛$ para generar una nueva secuencia de números enteros que parte de $𝑥_(𝑛+1),𝑥_(𝑛+2),𝑥_(𝑛+3)…$ y usando la relación fundamental de congruencia en su forma original tomando $C = 0$.\n",
        "\n",
        "$𝑥_𝑖≡(𝑥_(𝑖−1)+𝑥_(𝑖−𝑛) )𝑀𝑜𝑑 \\ 𝑀 \\ → \\ 𝑖=𝑛+1, 𝑛+2, 𝑛+3,…,𝑁$\n",
        "\n",
        "\n"
      ],
      "metadata": {
        "id": "43FEJ4rXbjQu"
      }
    },
    {
      "cell_type": "markdown",
      "source": [
        "### **Selección de los parámetros para métodos congruenciales**\n",
        "\n",
        "Los siguientes dos teoremas dan las condiciones básicas que se deben tener en cuenta para la selección de los parámetros en generadores congruenciales.\n",
        "\n",
        "**Teorema No 1.**\n",
        "\n",
        "Un generador congruencial lineal tendrá período máximo $M$ si y solo si\n",
        "*   $C$ es diferente de cero y es primo relativo con $M$ (es decir, $C$ y $M$ no tienen ningún factor primo común).\n",
        "*   $(𝑎 𝑚𝑜𝑑 𝑞) ≡ 1$ para cada factor primo $𝑞$ de $𝑀$. $q$ corresponde a la descomposición en factores primos de $M$.\n",
        "*   $(𝑎 𝑚𝑜𝑑 4) ≡ 1$ si 4 es un factor de $M$.\n",
        "Recuerde que $C$ y $M$ son primos relativos si y solo si $C$ y $M$ no tienen otro divisor común diferente de 1, lo cual es equivalente a decir que no tienen factor primo común.\n",
        "\n",
        "\n",
        "\n"
      ],
      "metadata": {
        "id": "uI6GKleIbjQu"
      }
    },
    {
      "cell_type": "markdown",
      "source": [
        "### **Selección de los parámetros para métodos congruenciales**\n",
        "\n",
        "**Teorema No 1.**\n",
        "\n",
        "Si $C = 0$ en un generador congruencial, entonces $𝑥_𝑖= 0$ no puede estar incluido en el ciclo, dado que a partir de ahí se repetiría el cero. Sin embargo, el generador tendrá ciclo a través de todos los $𝑀−1$ enteros en el conjunto $\\{1, 2, …, 𝑀−1\\}$ si y solo si:\n",
        "*   $M$ es un entero primo y\n",
        "*   $a$ es un elemento primitivo módulo $M$($a$ es generado por el modulo de $M$).\n",
        "\n",
        "Todos los parámetros son función del módulo, por lo tanto, este es el primero que debe seleccionarse y su selección debe hacerse teniendo en cuenta que el período de las secuencias sea lo mas grande posible.\n",
        "\n",
        "\n",
        "\n"
      ],
      "metadata": {
        "id": "kM-_w5usbjQv"
      }
    },
    {
      "cell_type": "markdown",
      "source": [
        "### **Algoritmo Generador Congruencial**\n"
      ],
      "metadata": {
        "id": "p8VYumr6bjQv"
      }
    },
    {
      "cell_type": "code",
      "source": [
        "# @markdown ## **Favor ingresar aquí su generador de números aleatorios**\n"
      ],
      "metadata": {
        "id": "ZoyPOxHmbjQv",
        "cellView": "form"
      },
      "execution_count": null,
      "outputs": []
    },
    {
      "cell_type": "markdown",
      "source": [
        "<hr size=10 noshade color=\"green\">"
      ],
      "metadata": {
        "id": "Pzn1fpb8bjQv"
      }
    },
    {
      "cell_type": "code",
      "source": [
        "y = su_generador.copy()"
      ],
      "metadata": {
        "id": "HhNpqyr586T1"
      },
      "execution_count": null,
      "outputs": []
    },
    {
      "cell_type": "markdown",
      "source": [
        "# **Pruebas estadísticas para generadores de números aleatorios**\n",
        "\n",
        "Claramente los números aleatorios generados por programas de\n",
        "computador no son aleatorios, dado que están completamente determinados por los datos iniciales y por los parámetros del método empleado. Sin embargo, estos números pueden considerarse como verdaderos números aleatorios si pasan una serie de pruebas estadísticas sobre la uniformidad y la independencia de las secuencias de números generados.\n",
        "\n",
        "\n",
        "Los requisitos que se impongan a un conjunto particular de números (a una secuencia) deben estar basados principalmente en la aplicación que se desee dar a esos números en los experimentos de simulación. Se han propuesto diferentes pruebas que proveen las herramientas estadísticas necesarias para validar la aleatoriedad de un conjunto de números para unas condiciones dadas. El estudiante debe decidir cuáles de las pruebas ha de emplear para estar seguro de que su generador sí producirá números aleatorios, según su aplicación específica.\n",
        "\n"
      ],
      "metadata": {
        "id": "OPkf_y7FbjQv"
      }
    },
    {
      "cell_type": "markdown",
      "source": [
        "## **Pruebas sobre la Uniformidad de la distribución**\n",
        "\n",
        "Un análisis básico que siempre debe realizarse es la validación de la uniformidad de la distribución. Se proponen dos pruebas básicas que pueden aplicarse: La prueba Chi - Cuadrado y la prueba de Smirnov-Kolmogorov.\n",
        "Ambas pruebas caen en la categoría de lo que en estadística se denominan pruebas de “Bondad de Ajuste” y miden el grado de ajuste entre la distribución obtenida de una muestra de números aleatorios y la distribución teórica que se supone debe seguir esa muestra, en nuestro caso la distribución uniforme.\n",
        "\n",
        "Ambas pruebas están basadas en la hipótesis nula de que no hay diferencias apreciables (significativas) entre la distribución muestral y la teórica.\n",
        "En resumen ambas pruebas están basadas en las siguientes hipótesis:\n",
        "\n",
        ">*   Hipótesis Nula $H_0$\n",
        ">>*   Los valores provienen de una distribución uniforme (0,1)\n",
        ">*   Hipótesis Alternativa $H_1$\n",
        ">>*   Los valores no provienen de una distribución uniforme (0,1)\n"
      ],
      "metadata": {
        "id": "IfWdlqfqbjQw"
      }
    },
    {
      "cell_type": "markdown",
      "source": [
        "## **Intervalos de confianza y pruebas de hipótesis**\n",
        "\n",
        "<center><h1>\n",
        "$NC=(1-NS)*100%=α$\n",
        "</h1> </center>\n",
        "\n",
        "$NC$, Nivel de confianza\n",
        "$NS$, Nivel de significancia (probabilidad de equivocarme en el rechazo de una hipótesis)\n",
        "\n",
        "Usuario elige el nivel de confianza ($NC$)\n",
        "Recomendado 95% - Depende de la rigurosidad.\n",
        ">*   Hipótesis Nula $H_0$\n",
        ">>*   Los valores provienen de una distribución uniforme (0,1)\n",
        ">*   Hipótesis Alternativa $H_1$\n",
        ">>*   Los valores no provienen de una distribución uniforme (0,1)\n",
        "\n"
      ],
      "metadata": {
        "id": "PyWTyhQibjQw"
      }
    },
    {
      "cell_type": "markdown",
      "source": [
        "# **Prueba Chi-Cuadrado - $X^2$**\n",
        "\n",
        "Esta prueba se usa cuando se quiere probar la hipótesis de que unos datos muestrales provienen de una determinada distribución.\n",
        "Se quiere demostrar que no existe una diferencia significativa entre la distribución de frecuencia de la muestra y la distribución uniforme. La prueba chi cuadrado permite determinar si las frecuencias observadas en la muestra están lo suficientemente cerca de las frecuencias esperadas bajo la hipótesis nula.\n",
        "\n",
        "Para esta prueba es necesario agrupar o distribuir los números aleatorios generados en intervalos de clase, preferiblemente del mismo tamaño. El estadístico de prueba está definido como:\n",
        "\n",
        "<center><h1>\n",
        "$X^2 = \\sum_{i=1}^{k} \\frac{(O_i-E_i)^2}{E_i}$\n",
        "</h1> </center>\n",
        "\n",
        "*   $O_i$ = total de números aleatorios que caen en el intervalo i.\n",
        "*   $E_i$ = Número esperado de valores en el intervalo i.\n",
        "*   $k$ = Número de intervalos de clase en que se distribuyen las observaciones\n"
      ],
      "metadata": {
        "id": "Vf8i4I6ibjQw"
      }
    },
    {
      "cell_type": "markdown",
      "source": [
        "El número esperado de observaciones para cada intervalo está dado por:\n",
        "\n",
        "<center><h1>\n",
        "$E_i = p_i$\n",
        "</h1> </center>\n",
        "\n",
        "*   $p_i$  = probabilidad de que una observación (un número aleatorio) quede en el intervalo i.\n",
        "*   $n$ = Total de observaciones o números aleatorios generados.\n",
        "\n",
        "En nuestro caso, tratándose de la distribución uniforme y para $k$ intervalos de clase igualmente espaciados, la probabilidad de que una observación quede en el intervalo i está dada por:\n",
        "$p_i = \\frac{1}{k} →i=1,2,3,...,k$\n",
        "\n",
        "\n",
        "Entonces el número de observaciones en cada intervalo está dado por:\n",
        "\n",
        "$E_i = p_in →\\frac{n}{k}$\n",
        "\n",
        "El estadístico $X_2$ sigue una distribución Chi-Cuadrado con   grados de libertad. Para que esta suposición sea válida se requiere que el número esperado de observaciones en cada intervalo de clase sea por lo menos $5$,  $E_i \\geq 5$. Si esta condición no se cumple, es necesario agrupar en uno los resultados de varios intervalos de clase o generar nuevos intervalos hasta cumplir con el valor de 5 intervalos.\n"
      ],
      "metadata": {
        "id": "kJfNn8yYbjQw"
      }
    },
    {
      "cell_type": "markdown",
      "source": [
        "Para la prueba de uniformidad se calcula el valor $X^2$, y se acepta la hipótesis nula si $X^2 \\leq {X_{k-1, 1−\\alpha}^2}$ donde este representa el valor de la distribución Chi-Cuadrado con $k-1$ grados de libertad y un nivel de significancia de $\\alpha$, es decir, que tiene un área de $1-\\alpha$ a la izquierda y $\\alpha$ a la derecha.\n",
        "\n",
        "Algunas consideraciones que hay que tener en cuenta con respecto a la aplicación de esta prueba son las siguientes:\n",
        "*   El número de intervalos de clase debe ser por lo menos cinco. Para facilidad de los cálculos y para una buena visualización de la distribución tampoco debería ser muy grande $(k \\leq 20)$.\n",
        "*   El número esperado de observaciones en cada intervalo debe ser mayor o igual a cinco; en caso contrario, deberían agruparse varios intervalos para lograr esto.\n",
        "\n",
        "Estos valores se comparan con el valor critico $X_{\\alpha, k-s-1}^2$ de la tabla A.6 del libro guía \\[Discrete-Event System Simulation (Jerry Banks, John S. Carson II, Barry L. Nelson etc.) Tabla A.6] en donde el valor calculado de $X^2$ se compara validando que este sea menor al detallado en la tabla.\n",
        "\n",
        "[Documento Tabla X²](https://raw.githubusercontent.com/juliancastillo-udea/2023-02-Simulacion/main/Unidad2/ChiCuadrado.csv)\n",
        "\n",
        "![](https://raw.githubusercontent.com/juliancastillo-udea/2023-02-Simulacion/main/Unidad2/TablaA6.png)"
      ],
      "metadata": {
        "id": "kcsuIzWHbjQw"
      }
    },
    {
      "cell_type": "markdown",
      "source": [
        "## Ejemplo para 5 clases"
      ],
      "metadata": {
        "id": "NfJuLKhGbjQw"
      }
    },
    {
      "cell_type": "markdown",
      "source": [
        "https://github.com/juliancastillo-udea/2023-02-Simulacion/tree/main/Unidad2"
      ],
      "metadata": {
        "id": "TXHJCCaebjQw"
      }
    },
    {
      "cell_type": "code",
      "source": [
        "filename = r\"https://raw.githubusercontent.com/juliancastillo-udea/2023-02-Simulacion/main/Unidad2/ChiCuadrado.csv\"\n",
        "data = pd.read_csv(filename, sep=',', usecols=[\"GradosLibertad\", \"Alfa0.05\"], index_col ='GradosLibertad')\n",
        "data.head()"
      ],
      "metadata": {
        "id": "hK8_243hbjQw"
      },
      "execution_count": null,
      "outputs": []
    },
    {
      "cell_type": "code",
      "source": [
        "chi2 = data.loc[5-1]\n",
        "chi2 = chi2[0]\n",
        "chi2"
      ],
      "metadata": {
        "id": "gswzfE3CbjQx"
      },
      "execution_count": null,
      "outputs": []
    },
    {
      "cell_type": "code",
      "source": [
        "#Prueba"
      ],
      "metadata": {
        "id": "N6Cwz4D0b0Au"
      },
      "execution_count": null,
      "outputs": []
    },
    {
      "cell_type": "markdown",
      "source": [
        "# **Prueba de Kolmogorov-Smirnov**\n",
        "\n",
        "En esta prueba interesa el grado de concordancia entre la distribución de frecuencia muestral y la distribución de frecuencia teórica, bajo la hipótesis nula de que la distribución de la muestra es uniforme (0,1), e interesa probar que no existe diferencia significativa. La prueba trabaja con la función de distribución (distribución de frecuencia acumulativa), y se puede realizar para valores agrupados en intervalos de clase, o para las observaciones individuales, sin agrupar.\n"
      ],
      "metadata": {
        "id": "E2mmzZmKbjQx"
      }
    },
    {
      "cell_type": "markdown",
      "source": [
        "Sea $Fx(x)$ la función de distribución teórica para la variable aleatoria $X$ (uniforme en nuestro caso), y representa la proporción esperada de observaciones que tengan un valor menor o igual a $x$. Es decir:\n",
        "\n",
        "<center><h1>\n",
        "$Fx(x) = P(X \\leq x) = \\int_{-\\infty}^{\\infty} f(x)dx=x \\ \\ ⟹ Si \\ X \\ es \\ Uniforme \\ (0,1)$\n",
        "</h1> </center>\n"
      ],
      "metadata": {
        "id": "gJGrzquxbjQy"
      }
    },
    {
      "cell_type": "markdown",
      "source": [
        "Sea $S_n(x)$ la función de distribución empírica (observada) de la muestra de $n$ observaciones (números aleatorios). $S_n(x)$ representa la proporción de valores observados (generados) que son menores o iguales a $x$, y está definida como:\n",
        "\n",
        "$S_n(x)=P \\frac{X \\leq x}{n}=\\frac{m}{n}$\n",
        "\n",
        "donde $m$ es el número de valores observados (generados) que son menores o iguales a $x$."
      ],
      "metadata": {
        "id": "v1lktsqKbjQy"
      }
    },
    {
      "cell_type": "markdown",
      "source": [
        "En la prueba de Kolmogorov-Smirnov se está interesado en la mayor desviación entre la función de distribución teórica y la empírica, es decir entre $Fx(x)$ y $S_n(x)$, para todo el rango de valores de $x$. Bajo la hipótesis nula se espera que estas desviaciones sean pequeñas y estén dentro de los límites de errores aleatorios. Por lo tanto, en la prueba $K-S$ se calcula la mayor desviación entre $Fx(x)$ y $S_n(x)$, denotada por $D(x)$ y está dada por:\n",
        "$D(x) = \\max\\mid Fx(x)-Sn(x) \\mid$\n",
        "\n",
        "La distribución de $D(x)$ es conocida y depende del número de observaciones $n$. Se acepta la hipótesis nula de que no existe diferencia significativa entre las distribuciones teórica y empírica si el valor de 𝐷(𝑥) es menor o igual que el valor crítico $D\\max (1-\\alpha,n)$. En la siguiente diapositiva se muestra la tabla para valores críticos $K-S$."
      ],
      "metadata": {
        "id": "VJ0oYPkwbjQy"
      }
    },
    {
      "cell_type": "markdown",
      "source": [
        "## **Para observaciones agrupadas en intervalos de clase**\n",
        "\n",
        "El procedimiento general para realizar esta prueba se puede resumir en los siguientes pasos:\n",
        "1.   Organizar los datos de menor a mayor, donde $R_i$ denote la i-esima menor observación así: $R_1 \\leq R_2  \\leq ... \\leq R_N$\n",
        "2.   Calcular\n",
        ">*   $D^+ = \\max_{1 \\leq i \\leq N} \\left\\{ \\frac{i}{N}-R_i \\right\\}$\n",
        ">\n",
        ">*   $D^- = \\max_{1 \\leq i \\leq N} \\left\\{ R_i - \\frac{i-1}{N} \\right\\}$\n",
        "3.   Calcular $D = \\max(D^+ , D^-)$\n",
        "4.   Localizar el valor critico $D_{\\alpha}$ en la tabla dado el valor de significancia y el tamaño de $N$.\n",
        "5.   Si el tamaño de $D$ es mayor que el valor critico $D_{\\alpha}$, la hipótesis nula de que los datos son una muestra de la distribución uniforme es rechazado. Si $D \\leq D_{\\alpha}$ se concluye que no hay diferencia detectada entre la distribución muestra y una distribución uniforme.\n",
        "\n",
        "Estos valores se comparan con el valor critico de acuerdo a los grados de libertad de la tabla A.8 del libro guía \\[Discrete-Event System Simulation (Jerry Banks, John S. Carson II, Barry L. Nelson etc.) Tabla A.8] en donde el valor calculado de $KS$ se compara validando que este sea menor al detallado en la tabla.\n",
        "\n",
        "[Documento Tabla KS](https://raw.githubusercontent.com/juliancastillo-udea/2023-02-Simulacion/main/Unidad2/KolmogorovSmirnov.csv)\n",
        "\n",
        "![](https://raw.githubusercontent.com/juliancastillo-udea/2023-02-Simulacion/main/Unidad2/TablaA8.png)"
      ],
      "metadata": {
        "id": "q3IX_ZXpbjQy"
      }
    },
    {
      "cell_type": "code",
      "execution_count": null,
      "metadata": {
        "id": "v5PdgTnMbjQy"
      },
      "outputs": [],
      "source": [
        "#Cargamos la tabla desde la ruta de GitHub\n",
        "filename = r'https://raw.githubusercontent.com/juliancastillo-udea/2023-02-Simulacion/main/Unidad2/KolmogorovSmirnov.csv' #RAW -> Crudo\n",
        "data = pd.read_csv(filename, sep=',', usecols=[\"TamanioMuestra\", \"Alfa0.05\"], index_col ='TamanioMuestra')\n",
        "data.head()"
      ]
    },
    {
      "cell_type": "code",
      "source": [
        "ks = data.loc[36] #Posicion 36 para mas de 35 registros\n",
        "ks = ks[0]\n",
        "print(ks)"
      ],
      "metadata": {
        "id": "gbtLuzcBbjQy"
      },
      "execution_count": null,
      "outputs": []
    },
    {
      "cell_type": "code",
      "source": [
        "#Los numeros calculados previamente\n",
        "print(aleatorios)"
      ],
      "metadata": {
        "id": "ZS3WGGccvN-y"
      },
      "execution_count": null,
      "outputs": []
    },
    {
      "cell_type": "markdown",
      "source": [
        "#**Test para autocorrelación**\n",
        "\n",
        "La prueba de autocorrelación se refiere a la dependencia entre números en una secuencia.\n",
        "Considere los números a continuación como números aleatorios.\n",
        "Aunque los números parecen ser aleatorios, cada quinto número es un número grande en esa posición.\n",
        "Esto puede ser un tamaño de muestra pequeño, pero la idea es que los números en la secuencia pueden estar relacionados\n",
        "\n",
        "Número 01|Número 02|Número 03|Número 04|Número 05|Número 06|Número 07|Número 08|Número 09|Número 10\n",
        "---|---|---|---|---|---|---|---|---|---\n",
        "0.12|0.01|0.23|0.28|**0.89**|0.31|0.64|0.28|0.83|**0.93**\n",
        "\n",
        "\n",
        "Número 11|Número 12|Número 13|Número 14|Número 15|Número 16|Número 17|Número 18|Número 19|Número 20\n",
        "---|---|---|---|---|---|---|---|---|---\n",
        "0.99|0.15|0.33|0.35|**0.91**|0.41|0.60|0.27|0.75|**0.88**\n",
        "\n",
        "\n",
        "Número 21|Número 22|Número 23|Número 24|Número 25|Número 26|Número 27|Número 28|Número 29|Número 30\n",
        "---|---|---|---|---|---|---|---|---|---\n",
        "0.68|0.49|0.05|0.43|**0.95**|0.58|0.19|0.36|0.69|**0.87**\n"
      ],
      "metadata": {
        "id": "p8Q_AED-bjQz"
      }
    },
    {
      "cell_type": "markdown",
      "source": [
        "Probando la autocorrelación entre cada número $m$ ($m$ es el retraso), comenzando con el número $i$\n",
        "\n",
        "\n",
        "*   La Autocorrelación $\\rho_{im}$ entre los números aleatorios $R_{i}, R_{i+l}, R_{i+2l}, ... , , R_{i+(M+1)l}$ , donde $l$ es el retrazo entre valores.\n",
        "*   $M$ es el entero mas grande que cumple con $i + (M+1)l \\leq N$\n",
        ">*    $M \\leq \\frac{N-i}{l}-1$\n",
        "\n",
        "*    $H_{o}: \\rho_{il} = 0$, si lo números son independientes\n",
        "*    $H_{1}: \\rho_{il} \\neq 0$, si lo números son dependientes\n",
        "\n",
        "Si los valores no están correlacionados: Para valores grandes de $M$, la distribución del estimador de $\\rho_{il}$, denotado con $\\hat{\\rho}_{il}$ es aproximadamente normal\n",
        "\n",
        "---\n",
        "El estadístico de prueba es el siguiente:\n",
        "\n",
        "<h1>\n",
        "\n",
        ">*    $Z_0 = \\frac{\\hat{\\rho}_{il}}{\\hat{\\sigma}_{\\hat{\\rho}_{il}}}$\n",
        "\n",
        "</h1>\n",
        "\n",
        "$Z_0$ se distribuye normalmente con media 0 y varianza = 1\n",
        "\n",
        "Los valores de $\\hat{\\rho}_{il}$ y $\\hat{\\sigma}_{\\hat{\\rho}_{il}}$ se calculan de la siguiente manera:\n",
        "\n",
        ">*    $\\hat{\\rho}_{il} = \\frac{1}{M+1}\\left[\\sum_{k=0}^{M} R_{i+kl} R_{i+(k+1)l} \\right]-0.25$\n",
        ">\n",
        ">\n",
        ">*    $\\hat{\\sigma}_{\\hat{\\rho}_{il}}=\\frac{\\sqrt{13M+7}}{12(M+1)}$\n",
        "---\n",
        ">>*    Si $\\hat{\\rho}_{il} > 0$, la subsecuencia de valores tiene una correlación positiva. Altos números aleatorios tienden a ser seguidos por altos números y viceversa.\n",
        ">>*    Si $\\hat{\\rho}_{il} < 0$, la subsecuencia de valores tiene una correlación negativa. Bajos números aleatorios tienden a ser seguidos por altos números y viceversa.\n",
        ">>\n",
        ">>Luego de calcular $Z_0$, no se rechaza la hipótesis de independencia si:\n",
        ">>>*     $-Z_{\\frac{\\alpha}{2}}\\leq Z_0 \\leq Z_{\\frac{\\alpha}{2}}$\n",
        ">>>\n",
        ">>>     Donde $\\alpha$ es el nivel de significancia y $Z_{\\frac{\\alpha}{2}}$ se obtiene de la tabla A3 del libro de Banks la cual se puede visualizar a continuación:\n",
        "![Banks](https://raw.githubusercontent.com/juliancastillo-udea/2023-02-Simulacion/main/Unidad2/TablaA3.png)\n",
        "![FailToReject](https://raw.githubusercontent.com/juliancastillo-udea/2023-02-Simulacion/main/Unidad2/FailToReject.png)\n",
        "\n",
        "<center>\n",
        "\n",
        "[Distribución Normal - del NIST (National Institute of Standards and Technology), mas fácil de ubicar.](https://www.itl.nist.gov/div898/handbook/eda/section3/eda3671.htm)\n",
        "\n",
        "![NIST](https://upload.wikimedia.org/wikipedia/commons/thumb/e/ee/NIST_logo.svg/220px-NIST_logo.svg.png)\n"
      ],
      "metadata": {
        "id": "EYUHEsH7bjQz"
      }
    },
    {
      "cell_type": "markdown",
      "source": [
        "## Ejercicio con valores previos.\n",
        "Vamos a realizar dos test, uno para los valores 3, 8, 13, 19\n",
        "Usando los siguientes valores\n",
        "*    $\\alpha = 0.05$ | Una Tolerancia de 0.05\n",
        "*    $i =  3$ | Comenzamos en el valor 3 de la secuencia\n",
        "*    $l =  5$ | Cada 5 números\n",
        "*    $N = 30$ | Tenemos 30 números generados\n",
        "*    $M = 4$ | El mayor entero que cumple con: $M \\leq \\frac{N-i}{l}-1 \\rightarrow M \\leq \\frac{30-3}{5}-1 \\rightarrow M \\leq 4.4 = 4$ (Truncado, quitando los decimales, aplicando la función `int`"
      ],
      "metadata": {
        "id": "6Ln0djN2bjQz"
      }
    },
    {
      "cell_type": "code",
      "execution_count": null,
      "metadata": {
        "id": "Cbv8JcXMbjQ0"
      },
      "outputs": [],
      "source": [
        "numerosaleatorios = [0.12,0.01,0.23,0.28,0.89,0.31,0.64,0.28,0.83,0.93,0.99,0.15,0.33,0.35,0.91,0.41,0.60,0.27,0.75,0.88,0.68,0.49,0.05,0.43,0.95,0.58,0.19,0.36,0.69,0.87]\n",
        "print(numerosaleatorios)"
      ]
    },
    {
      "cell_type": "markdown",
      "source": [
        "$\\hat{\\rho}_{35}=\\frac{1}{4+1}\\left[(0.23)(0.28)+(0.28)(0.33)+(0.33)(0.27)+(0.27)(0.05)+(0.05)(0.36)\\right]-0.25 = -0.1945$\n",
        "\n",
        "$\\hat{\\sigma}_{\\hat{\\rho}_{35}}=\\frac{\\sqrt{13(4)+7}}{12(4+1)} = 0.1280$\n",
        "\n",
        "$Z_0 = \\frac{\\hat{\\rho}_{il}}{\\hat{\\sigma}_{\\hat{\\rho}_{il}}} = \\frac{-0.1945}{+0.1280} = -1.516$\n",
        "\n",
        "$Z_{0.025} = 1.96$\n",
        "\n",
        "$-Z_{\\frac{\\alpha}{2}}\\leq Z_0 \\leq Z_{\\frac{\\alpha}{2}}$\n",
        "\n",
        "$-1.96\\leq Z_0 \\leq 1.96$\n",
        "\n",
        "$-1.96\\leq -1.516 \\leq 1.96$"
      ],
      "metadata": {
        "id": "LdXRu2mTbjQ0"
      }
    },
    {
      "cell_type": "markdown",
      "source": [
        "# **Pruebas de independencia**"
      ],
      "metadata": {
        "id": "QAzmeJcavXaN"
      }
    },
    {
      "cell_type": "markdown",
      "source": [
        "## **Pruebas de Rachas o Corridas**\n",
        "\n",
        "Las pruebas anteriores son aplicables para verificar la uniformidad de la distribución de una secuencia de números aleatorios, pero ninguna tiene en cuenta el ordenamiento de la secuencia de números aleatorios, de acuerdo al tiempo de generación.\n",
        "Es necesario incluir otras pruebas que incluyan aspectos tales como el orden en que aparecen los números, para verificar si en realidad son independientes. Estas pruebas se las conoce con el nombre de “Pruebas de Rachas o Corridas”."
      ],
      "metadata": {
        "id": "AG_sXA7xvh8k"
      }
    },
    {
      "cell_type": "markdown",
      "source": [
        "Para una secuencia de valores, las rachas se pueden clasificar en dos formas diferentes:\n",
        "*   Rachas ascendentes o hacia arriba y rachas descendentes o hacia abajo, dependiendo de si un número está seguido por otro mayor o por otro menor.\n",
        "*   Rachas por encima o por debajo del valor medio. En este caso la racha se clasifica dependiendo de si un valor está por encima o por debajo del valor medio (0.5 para el caso de números aleatorios).\n"
      ],
      "metadata": {
        "id": "N5GRpGBvv_hI"
      }
    },
    {
      "cell_type": "markdown",
      "source": [
        "## **Rachas hacia arriba y hacia abajo**\n",
        "\n",
        "Sea $A$ el número total de rachas ascendentes y descendentes en una secuencia de $n$ números aleatorios. La media y la varianza de $𝐴$, $𝜇_A$  y $𝜎_A^2$ están dadas por:\n",
        "\n",
        "---\n",
        "\n",
        "<h1>\n",
        "$𝜇_A = \\frac{2N-1}{3}$\n",
        "\n",
        "---\n",
        "\n",
        "<h1>\n",
        "$𝜎_A^2 = \\frac{16N-29}{90}$ $ \\ \\ Con \\ N > 20$\n",
        "\n",
        "---\n",
        "\n",
        "<h1>\n",
        "$Z = \\frac{A-𝜇_A}{𝜎_A^2}$\n",
        "\n",
        "---\n",
        "\n",
        "<h1>\n",
        "$-Z_{\\frac{\\alpha}{2}}\\leq Z \\leq Z_{\\frac{\\alpha}{2}}$\n",
        "\n",
        "---\n",
        "\n",
        "<h1>\n",
        "Con un $\\alpha=0.05$\n",
        "\n",
        "<h1>\n",
        "$-1.96\\leq Z \\leq 1.96$"
      ],
      "metadata": {
        "id": "62XhbExroHkx"
      }
    },
    {
      "cell_type": "code",
      "source": [
        "numA = y.copy()"
      ],
      "metadata": {
        "id": "5kAw7WdLDhBD"
      },
      "execution_count": null,
      "outputs": []
    },
    {
      "cell_type": "markdown",
      "source": [
        "## **Rachas hacia arriba y hacia abajo de la media**\n",
        "\n",
        "Sean $n_1$ y $n_2$ el número de valores individuales por encima y por debajo de la media. Sea $B$ el número total de rachas por encima y por debajo de la media en una secuencia de $n$ valores. El valor esperado y la varianza del número total de rachas por encima y por debajo del valor medio ($𝜇_B$  y $𝜎_B$ ) estén dados por:\n",
        "\n",
        "---\n",
        "\n",
        "<h1>\n",
        "$𝜇_B = \\frac{2n_1n_2}{n_1+n_2}$\n",
        "\n",
        "---\n",
        "\n",
        "<h1>$𝜎_B^2 = \\frac{2n_1n_2(2n_1n_2-n_1-n_2)}{(n_1+n_2)^2(n_1+n_2-1)}$\n",
        "Para $n_1$ o $n_2$ $> 20$\n",
        "\n",
        "---\n",
        "\n",
        "<h1>$Z = \\frac{B-𝜇_B}{𝜎_B^2}$\n",
        "\n",
        "\n",
        "---\n",
        "\n",
        "<h1>$-Z_{\\frac{\\alpha}{2}}\\leq Z \\leq Z_{\\frac{\\alpha}{2}}$\n",
        "\n",
        "---\n",
        "\n",
        "<h1>\n",
        "Con un $\\alpha=0.05$\n",
        "<h1>\n",
        "$-1.96\\leq Z \\leq 1.96$"
      ],
      "metadata": {
        "id": "kUCC4zZCoLbF"
      }
    },
    {
      "cell_type": "code",
      "source": [],
      "metadata": {
        "id": "u0KxVGXQgLw7"
      },
      "execution_count": null,
      "outputs": []
    }
  ]
}
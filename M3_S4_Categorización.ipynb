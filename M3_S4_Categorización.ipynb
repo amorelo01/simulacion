{
  "nbformat": 4,
  "nbformat_minor": 0,
  "metadata": {
    "colab": {
      "provenance": [],
      "include_colab_link": true
    },
    "kernelspec": {
      "name": "python3",
      "display_name": "Python 3"
    },
    "language_info": {
      "name": "python"
    }
  },
  "cells": [
    {
      "cell_type": "markdown",
      "metadata": {
        "id": "view-in-github",
        "colab_type": "text"
      },
      "source": [
        "<a href=\"https://colab.research.google.com/github/amorelo01/simulacion/blob/main/M3_S4_Categorizaci%C3%B3n.ipynb\" target=\"_parent\"><img src=\"https://colab.research.google.com/assets/colab-badge.svg\" alt=\"Open In Colab\"/></a>"
      ]
    },
    {
      "cell_type": "markdown",
      "source": [
        "<p><img alt=\"banner\" height=\"252px\" width=\"1080px\" src=\"https://docs.google.com/uc?export=download&id=18D9zTLyHjMFbwtI2Eenr0l5oGeH9a1Wq\"  align=\"center\" hspace=\"10px\" vspace=\"0px\" ></p>"
      ],
      "metadata": {
        "id": "wfZ_yGe-6WJD"
      }
    },
    {
      "cell_type": "markdown",
      "source": [
        "# <font color='056938'> **Introducción** </font>\n",
        "\n",
        "Después de haber tratado con valores faltantes, duplicados, valores atípicos, etc., el siguiente paso importante en el preprocesamiento de los datos es gestionar las variables categóricas.\n",
        "\n",
        "Las variables categóricas usalmente tienen formatos de cadena de caracteres, aunque es posible que también tomen valores enteros o boleanos. Por ejemplo:\n",
        "\n",
        "* La marca de los vehiculos en una base de datos de vehiculos usados es normalmente una variable categorica del tipo cadena de caracteres.\n",
        "* El diametro de las ruedas de las bicicletas ofrecidas en un alamcen deportivo, a pesar de ser un valor entero $29$, y en algunos casos real $27.5$, usualmente es interpretado como un valor categórico\n",
        "* La presencia o no de cierta caracteristica en un dispositivo celular puede almacnerase como una variable boolean. El valor de `True` indicaría que se cuenta con la carácteristica y el valor de `False` que esta o esta presente.\n",
        "\n"
      ],
      "metadata": {
        "id": "ICue1tpekUpn"
      }
    },
    {
      "cell_type": "markdown",
      "source": [
        "Antes de profundizar en los métodos para tratar con las variables categóricas, es importante comprender sus tipos."
      ],
      "metadata": {
        "id": "83DVTJjMtto0"
      }
    },
    {
      "cell_type": "markdown",
      "source": [
        "**Datos nominales** — En los datos nominales, las categorías no tienen un orden específico. Cambiar el orden de las categorías no afecta la naturaleza de los datos. Por ejemplo, género, color, país, ciudad, etc. son datos nominales.\n",
        "\n",
        "**Datos ordinales** — Como sugiere el nombre, las categorías en los datos ordinales tienen un orden específico y cambiar ese orden puede afectar los datos. Por ejemplo, el nivel educativo (1.º, 2.º, 3.º, etc.), las calificaciones (A, B, C...) tienen niveles y, por lo tanto, son datos ordinales."
      ],
      "metadata": {
        "id": "RN2xfyf4tmMU"
      }
    },
    {
      "cell_type": "markdown",
      "source": [
        "# <font color='056938'> **Conjunto de datos de prueba** </font>\n",
        "\n",
        "Usaremos como conjunto de datos para el analisis, unna base de datos generada con base en la base de datos `taxis` de `Seaborn` que proporciona información sobre los viajes en taxi en Nueva York\n",
        "\n",
        "\n",
        "Las variables consideradas en la base de datos son\n",
        "\n",
        "\n",
        "* `pickup`: Fecha y hora en que comenzó el viaje en taxi.\n",
        "* `dropoff`: Fecha y hora en que finalizó el viaje.\n",
        "* `passengers`: Número de pasajeros en el taxi durante el viaje.\n",
        "* `distance`: Distancia recorrida en el viaje, medida en millas o kilómetros.\n",
        "* `total`: Costo total del viaje, incluyendo tarifa, propinas y peajes.\n",
        "* `tip`: indica si el pasajero entrego propina o no.\n",
        "* `color`: Color del taxi utilizado para el viaje.\n",
        "* `payment`: Método de pago utilizado por el pasajero para el viaje.\n",
        "* `pickup_zone`: Zona geográfica donde se realizó la recogida.\n",
        "* `dropoff_zone`: Zona geográfica donde se realizó la entrega.\n",
        "* `pickup_borough`: Distrito de la ciudad donde comenzó el viaje.\n",
        "* `dropoff_borough`: Distrito de la ciudad donde finalizó el viaje.\n",
        "* `service_eval`: Evaluación del servicio realizada por el usuario.\n",
        "\n",
        "\n"
      ],
      "metadata": {
        "id": "Bh8YhwTM-20B"
      }
    },
    {
      "cell_type": "code",
      "source": [
        "# Importar libreria seaborn\n",
        "import seaborn as sns\n",
        "import numpy as np\n",
        "\n",
        "# Cargar datos\n",
        "taxis = sns.load_dataset('taxis')\n",
        "taxis = taxis[['pickup', 'dropoff', 'passengers', 'total', 'tip', 'color',  'payment',  'pickup_zone', 'dropoff_zone',  'pickup_borough', 'dropoff_borough']]\n",
        "\n",
        "# agregar columnas ficticias\n",
        "cat_service = [\"very bad\", \"bad\", \"fair\", \"good\", \"excellent\"]\n",
        "prob_service = [0.05, 0.10, 0.4, 0.25, 0.2]\n",
        "taxis['service_eval'] = np.random.choice(cat_service, size=len(taxis), p=prob_service)\n",
        "taxis['tip'] = taxis['tip'] > 0\n",
        "\n",
        "# Mostrar el DataFrame\n",
        "\n",
        "taxis.head()\n",
        "\n"
      ],
      "metadata": {
        "id": "5fyvuQ17NlW6"
      },
      "execution_count": null,
      "outputs": []
    },
    {
      "cell_type": "markdown",
      "source": [
        "\n",
        "# <font color='056938'> **Codificación o *encoding*** </font>\n",
        "\n",
        " Codificación (o *Encoding*) en el contexto de analítica datos y aprendizaje automático, se refiere al proceso de transformar datos categóricos en un formato numérico que los modelos matemáticos puedan procesar.\n",
        "\n",
        " Existen diversas técnicas para manejar datos categóricos. Estas técnicas ayudan a convertir las variables categóricas en un formato numérico\n",
        "\n"
      ],
      "metadata": {
        "id": "fbL9RDyuveSt"
      }
    },
    {
      "cell_type": "markdown",
      "source": [
        "## <font color='8EC044'> **Label encoding** </font>\n",
        "\n",
        "El *label encoding* (codificación por etiquetas) asigna un número entero único a cada categoría.\n",
        "\n",
        "Por ejemplo,  Si tenemos las categorías `Bajo`, `Medio` y `Alto`, la codificación de etiquetas podría ser:\n",
        "> ```\n",
        "Bajo: 0\n",
        "Medio: 1\n",
        "Alto: 2\n",
        "```\n",
        "\n",
        "* El *label encoding* es apropiado cuando los valores categóricos tienen una relación ordinal (un orden inherente). Por ejemplo, si las etiquetas representan niveles como \"Bajo\", \"Medio\", \"Alto\".\n",
        "\n",
        "* Para datos no ordinales (como nombres de colores, ciudades o países), el *label econding* puede no ser la mejor opción.\n",
        "\n"
      ],
      "metadata": {
        "id": "G8WBzE4jXnGl"
      }
    },
    {
      "cell_type": "markdown",
      "source": [
        "### <font color='157699'> **Nota de uso** </font>\n",
        "Es importante tener en cuenta que la codificación de etiquetas puede introducir un orden artificial entre las categorías, lo que puede ser inapropiado si no existe un orden natural. **Por ejemplo**, asignar los números 0, 1 y 2 a las categorías \"Rojo\", \"Verde\" y \"Azul\" implica un orden implícito que no necesariamente refleja la realidad.\n",
        "\n",
        "Adicionalmente, los números mantienen relaciones. **Por ejempl**o, cuatro es el doble de dos y, al convertir categorías en números directamente, se crean estas relaciones a pesar de que no existen entre las categorías originales. al categorizar\n",
        "\n",
        "> ```\n",
        "  Rojo: 0\n",
        "  Verde: 1\n",
        "  Azul: 2\n",
        "  ```\n",
        "\n",
        "\n",
        "Note que `Azul` se convierte en el doble de `Verde`, lo cual no es exactamente correcto.\n",
        "\n",
        "Esto es especialmente problemático para algoritmos como `K-Means`, donde se calcula una medida de distancia al ejecutar el modelo."
      ],
      "metadata": {
        "id": "napopvwVaXg8"
      }
    },
    {
      "cell_type": "code",
      "source": [
        "from sklearn.preprocessing import LabelEncoder\n",
        "\n",
        "label_encoder = LabelEncoder()\n",
        "\n",
        "taxis['service_eval_encoded'] = label_encoder.fit_transform(taxis['service_eval'])\n",
        "taxis.sample(5)"
      ],
      "metadata": {
        "id": "Dj1Jm1hqcnLV"
      },
      "execution_count": null,
      "outputs": []
    },
    {
      "cell_type": "markdown",
      "source": [
        "<font color='46B8A9'> **Pregunta:** </font>\n",
        "\n",
        "**¿Qué observa en la codificación generara?**\n",
        "\n",
        "\n",
        "---\n",
        "\n",
        "Note que las categorias no quedaron en el orden deseado, pues se esperaba que estas fueran `[\"very bad\", \"bad\", \"fair\", \"good\", \"excellent\"]`."
      ],
      "metadata": {
        "id": "rP9Iy_Baddit"
      }
    },
    {
      "cell_type": "markdown",
      "source": [
        "## <font color='8EC044'> **Ordinal encoding** </font>"
      ],
      "metadata": {
        "id": "2nCvmP61hJL8"
      }
    },
    {
      "cell_type": "markdown",
      "source": [
        "Según lo obseervado en al aplicar el *label encoding*, quiza debemos especificar el orden en que queremos que se nombren las categorias, pues `LabelEncoder` lo hace segun su orden de aparición en el dataframe. Esto es precisamente lo que hace el *Ordinal encoding*. Para ello, podriamos usar `OrdinalEncoder` de la libreria from `sklearn`\n",
        "\n"
      ],
      "metadata": {
        "id": "ifWPsGHxhFZN"
      }
    },
    {
      "cell_type": "code",
      "source": [
        "from sklearn.preprocessing import OrdinalEncoder\n",
        "\n",
        "# Categories\n",
        "categories = [[\"very bad\", \"bad\", \"fair\", \"good\", \"excellent\"]]  # Note: Nested list for order\n",
        "\n",
        "# Create the OrdinalEncoder and specify the order\n",
        "ordinal_encoder = OrdinalEncoder(categories=categories)\n",
        "\n",
        "# Aplly the encoder\n",
        "taxis['service_eval_encoded'] = ordinal_encoder.fit_transform(taxis[['service_eval']])\n",
        "taxis.sample(5)"
      ],
      "metadata": {
        "id": "B2JTJoGbiWnh"
      },
      "execution_count": null,
      "outputs": []
    },
    {
      "cell_type": "markdown",
      "source": [
        "###<font color='46B8A9'> **Ejercicio** </font>\n",
        "\n",
        "Usando funciones de pandas es posible obtener el mismo resultado. ¿Que función emplearía?"
      ],
      "metadata": {
        "id": "vfbYKQUgks1L"
      }
    },
    {
      "cell_type": "code",
      "execution_count": null,
      "metadata": {
        "id": "S4NL9yH6VwiM"
      },
      "outputs": [],
      "source": [
        "# Escriba aquí su respuesta\n"
      ]
    },
    {
      "cell_type": "markdown",
      "source": [
        "## <font color='8EC044'> **One-Hot Encoding** </font>\n",
        "\n",
        "El **One-Hot Encoding** es una de las forma más comunes de tratar con datos categóricos no ordinales. Para cada categoría dentro de una característica, se crea una nueva columna binaria (0 o 1). Cada observación original se representa como un vector de 1s y 0s, donde un `1` indica que la observación pertenece a esa categoría específica y `0` en caso contrario.\n",
        "\n",
        "Por ejemplo, el vector de datos de colores `[rojo, verde, rojo, azul]` se codificaria de la siguiente manera:\n",
        "\n",
        "Supongamos que tienes una característica \"Color\" con tres posibles categorías: Rojo, Azul y Verde. Con One-Hot Encoding, generarías tres nuevas columnas como estas:\n",
        "\n",
        "|  Rojo | Azul | Verde |\n",
        "|------|------|-------|\n",
        "|   1   |  0   |   0   |\n",
        "|   0   |  0   |   1   |\n",
        "|   1   |  0   |   0   |\n",
        "|   0   |  1   |   1   |\n",
        "\n",
        "\n",
        "El **One-Hot Encoding** maneja correctamente los datos no ordinales evitando la interpretación incorrecta del significado ordinalque no se asigna un rango numérico, los algoritmos no asumen que una categoría es mayor que otra. Sin embargo, este enfoque también tiene algunas desventajas:\n",
        "\n",
        "\n",
        "*  Si la variable categórica tiene muchas categorías únicas, One-Hot Encoding creará una gran cantidad de características, lo que genera conjuntos de datos de alta dimensión más difíciles de procesar.\n",
        "*  Más características significan mayor uso de memoria, especialmente en casos con muchas categorías o conjuntos de datos grandes.\n",
        "*  Para categorías que aparecen con poca frecuencia, las nuevas columnas pueden tener muchos valores cero, lo que lleva a datos dispersos y, posiblemente, a ineficiencias durante el entrenamiento del modelo.\n"
      ],
      "metadata": {
        "id": "iGdx7sCl5OiQ"
      }
    },
    {
      "cell_type": "markdown",
      "source": [
        "Es posible codificar los datos usando el enfoque de one-hot-encoding directamente desde pandas medienta la función `get_dummies()`."
      ],
      "metadata": {
        "id": "gJC_eEQG7yjZ"
      }
    },
    {
      "cell_type": "code",
      "source": [
        "import pandas as pd\n",
        "\n",
        "taxis_encoded = pd.get_dummies(taxis, columns=['payment'])\n",
        "taxis_encoded.head()"
      ],
      "metadata": {
        "id": "dhl0PbUj8KXM"
      },
      "execution_count": null,
      "outputs": []
    },
    {
      "cell_type": "markdown",
      "source": [
        "Eliminar la última columna en técnicas como **One-Hot Encoding** es una práctica común para evitar un problema llamado multicolinealidad en modelos lineales y otros algoritmos que son sensibles a relaciones lineales entre variables. La multicolinealidad ocurre cuando una de las variables puede predecirse exactamente como una combinación lineal de otras, lo que puede llevar a inestabilidad en los coeficientes del modelo y hacer que los resultados sean difíciles de interpretar."
      ],
      "metadata": {
        "id": "LYsnE-fh-3jj"
      }
    },
    {
      "cell_type": "markdown",
      "source": [
        "###<font color='46B8A9'> **Ejercicio** </font>\n",
        "\n",
        "Note que las columnas resultantes estan siendo codificadas como datos booleanos. Consulte la [documentación](https://pandas.pydata.org/docs/reference/api/pandas.get_dummies.html) de la fución `get_dummies()` y modificue el código anterior para que:\n",
        "* Codifique las variabes con `0` y `1`\n",
        "* Cree una categoria para los datos faltantes\n",
        "* Elimine la primera columna de la codificación"
      ],
      "metadata": {
        "id": "7TyO2iSr-C1M"
      }
    },
    {
      "cell_type": "code",
      "source": [
        "# escriba aquí su respuesta\n"
      ],
      "metadata": {
        "id": "WQKQpENp9qZd"
      },
      "execution_count": null,
      "outputs": []
    },
    {
      "cell_type": "markdown",
      "source": [
        "También es posible realizar la codificación a través de librerias como `sklearn`"
      ],
      "metadata": {
        "id": "OX7w3d8e_qGc"
      }
    },
    {
      "cell_type": "code",
      "source": [
        "import pandas as pd\n",
        "from sklearn.preprocessing import OneHotEncoder\n",
        "\n",
        "# Crear el codificador\n",
        "encoder = OneHotEncoder(sparse_output=False)  # sparse_output=False para obtener un array denso\n",
        "\n",
        "# Aplicar el codificador\n",
        "encoded = encoder.fit_transform(taxis[['payment']])\n",
        "encoded_df = pd.DataFrame(encoded, columns=encoder.get_feature_names_out(['payment']))\n",
        "encoded_df\n"
      ],
      "metadata": {
        "id": "nPAuxyhc_115"
      },
      "execution_count": null,
      "outputs": []
    },
    {
      "cell_type": "markdown",
      "source": [
        "# <font color='46B8A9'> **Reto** </font>"
      ],
      "metadata": {
        "id": "nOj9kksvq9pr"
      }
    },
    {
      "cell_type": "markdown",
      "source": [
        "Discuta como gestionaria las diferentes variables categoricas de la base de datos en el dataframe `taxis`"
      ],
      "metadata": {
        "id": "zxlmFcjqq_nb"
      }
    },
    {
      "cell_type": "code",
      "source": [
        "# Escriba aquí su respuesta\n",
        "\n"
      ],
      "metadata": {
        "id": "2Q9gE6b-RXAB"
      },
      "execution_count": null,
      "outputs": []
    }
  ]
}
{
  "nbformat": 4,
  "nbformat_minor": 0,
  "metadata": {
    "colab": {
      "provenance": []
    },
    "kernelspec": {
      "name": "python3",
      "display_name": "Python 3"
    },
    "language_info": {
      "name": "python"
    }
  },
  "cells": [
    {
      "cell_type": "markdown",
      "source": [
        "<img alt=\"UdeA\" height=\"150px\" src=\"https://upload.wikimedia.org/wikipedia/commons/archive/f/fb/20161010213812%21Escudo-UdeA.svg\" align=\"left\" hspace=\"10px\" vspace=\"0px\">\n",
        "<img alt=\"CC\" height=\"150px\" src=\"https://upload.wikimedia.org/wikipedia/commons/thumb/b/b9/Ingenier%C3%ADa_Industrial_UdeA.png/1026px-Ingenier%C3%ADa_Industrial_UdeA.png\" align=\"right\" hspace=\"0px\" vspace=\"0px\">\n",
        "<br><br>\n",
        "\n",
        "<h1><center><b> Parcial 1 - Montecarlo</b></center><br><center><b>Desde Viernes 5, 6am hasta Domingo 7, 6pm de abril de 2024 </b></center></h1>\n",
        "<br><br>\n",
        "\n",
        "<hr size=10 noshade color=\"green\">\n",
        "\n",
        "<img alt=\"CC\" height=\"70px\" src=\"https://mirrors.creativecommons.org/presskit/icons/by.xlarge.png\" align=\"left\" hspace=\"0px\" vspace=\"0px\">\n",
        "<img alt=\"Attribution\" height=\"70px\" src=\"https://mirrors.creativecommons.org/presskit/icons/nc.xlarge.png\" align=\"left\" hspace=\"0px\" vspace=\"0px\">\n",
        "<img alt=\"NC\" height=\"70px\" src=\"https://mirrors.creativecommons.org/presskit/icons/sa.xlarge.png\" align=\"left\" hspace=\"0px\" vspace=\"0px\">\n",
        "<img alt=\"SA\" height=\"70px\" src=\"https://creativecommons.org//wp-content/themes/vocabulary-theme/vocabulary/svg/cc/icons/cc-icons.svg#cc-logo\" align=\"left\" hspace=\"0px\" vspace=\"0px\">\n",
        "\n",
        "\n",
        "<div align=\"right\">\n",
        "<h2> <b> Por: Julián Andrés Castillo G. </b> </h2>\n",
        "<a href=\"mailto:jandres.castillo@udea.edu.co\"> ✉ Julian Andres Castillo Grisales </a>\n",
        "</div>\n",
        "\n",
        "<br>\n",
        "\n",
        "**El presente curso hace parte de la Ingeniería Industrial de la Universidad de Antioquia.**\n",
        "\n",
        "---"
      ],
      "metadata": {
        "id": "40JgfTHcDvT7"
      }
    },
    {
      "cell_type": "code",
      "source": [
        "# @markdown # **Ingresar el nombre de los integrantes del grupo**\n",
        "Estudiante_1 = \"\" # @param {type:\"string\"}\n",
        "Estudiante_2 = \"\" # @param {type:\"string\"}"
      ],
      "metadata": {
        "cellView": "form",
        "id": "hWL20QpWDvT9"
      },
      "execution_count": null,
      "outputs": []
    },
    {
      "cell_type": "markdown",
      "source": [
        "## **Librerías Necesarias**"
      ],
      "metadata": {
        "id": "_hFgdyKoDvUA"
      }
    },
    {
      "cell_type": "code",
      "source": [
        "import os\n",
        "import random as rnd\n",
        "import pandas as pd\n",
        "import time\n",
        "import datetime\n",
        "import tqdm\n",
        "import numpy as np\n",
        "import math as mt\n",
        "import matplotlib.pyplot as plt\n",
        "import google.colab.files as files\n",
        "import warnings\n",
        "warnings.filterwarnings('ignore')"
      ],
      "metadata": {
        "id": "9HksMlKuDvUC"
      },
      "execution_count": null,
      "outputs": []
    },
    {
      "cell_type": "markdown",
      "source": [
        "# **Ejercicio 1 Problema Solucionado con Montecarlo (80%)**\n",
        "\n",
        "<img alt=\"UdeA\" height=\"200px\" src=\"https://i.imgur.com/ki2Sfz0.png\" align=\"left\">\n",
        "\n",
        "“ApureleJui” (AJ) actúa como una plataforma de entrega a domicilio que conecta a los usuarios con una amplia variedad de establecimientos de comida, desde restaurantes populares hasta opciones gourmet y locales independientes. Los usuarios pueden explorar menús, realizar pedidos y pagar por su comida a través de la aplicación móvil de ApureleJui, mientras que los \" AjueTenderos\" (AT), repartidores asociados a la plataforma, se encargan de recoger los pedidos en los restaurantes y entregarlos directamente en la puerta del cliente. Este servicio no solo proporciona conveniencia y accesibilidad para los usuarios que desean disfrutar de una comida sin salir de casa, sino que también ofrece a los restaurantes una vía adicional para incrementar sus ventas y alcanzar a una mayor clientela sin la necesidad de gestionar su propia flota de entrega.\n",
        "\n",
        "El presente ejercicio tiene como objetivo estimar la ganancia promedio que recibe un AT quincenal de acuerdo con su estructura de trabajo diaria descrita posteriormente. Es de anotar que los AT no tienen un horario de trabajo fijo, sino que tienen un rango estimado en valores de tendencia desde la plataforma. En la aplicación de AJ se estima que el promedio de atenciones de los AT se define por los promedios de los últimos mil servicios realizados.\n",
        "\n",
        "El código a continuación genera un listado de AT en donde detalla:\n",
        "*   Nombre: Nombre del AjueTendero\n",
        "*   Tiempo Atención: Promedio del tiempo de atención del AjueTendero\n",
        "*   Horas Trabajadas: Horas trabajadas promedio del AjueTendero\n",
        "*   Servicios Promedio: División entera de multiplicar por 60 las horas trabajas, dividido por el tiempo de atención.\n",
        "*   Edad: Edad del AjueTendero\n",
        "*   Fecha: Fecha de “captura de información”\n",
        "\n",
        "\n",
        "<img alt=\"UdeA\" height=\"200px\" src=\"https://i.imgur.com/ekM6jav.png\" align=\"left\">\n",
        "\n"
      ],
      "metadata": {
        "id": "Fn_HN5_SEEH7"
      }
    },
    {
      "cell_type": "markdown",
      "source": [
        "## **Bonificación de 0.5**\n",
        "\n",
        "Comentar con sus palabras el código entregado a continuación. Utilizaré programas que identifican si el código ha sido comentado con aplicativos como Chat GPT, Claude, Llama o Gemini entre otros y si cumple con un porcentaje superior al 50% se anula el"
      ],
      "metadata": {
        "id": "Pwcl8NqvE_2n"
      }
    },
    {
      "cell_type": "code",
      "execution_count": null,
      "metadata": {
        "id": "KVqJYhZqv7ub",
        "cellView": "form"
      },
      "outputs": [],
      "source": [
        "# @markdown Ejecutame y si quieres doble clic en mí y comentame.\n",
        "\n",
        "\n",
        "def GenerarNombre(Nombres: list, Apellidos: list) -> str:\n",
        "    Nombre = rnd.choice(Nombres)\n",
        "    Apellido = rnd.choice(Apellidos)\n",
        "    return f'{Nombre} {Apellido}'\n",
        "def GenerarEdad() -> int:\n",
        "    r = rnd.random()\n",
        "    if r < 0.5:\n",
        "        return rnd.randint(18, 25)\n",
        "    elif r < 0.75:\n",
        "        return rnd.randint(26, 33)\n",
        "    elif r < 0.9:\n",
        "        return rnd.randint(34, 40)\n",
        "    else:\n",
        "        return rnd.randint(41, 85)\n",
        "def TiempoAtencion() -> int:\n",
        "    LimiteInferior = rnd.randint(10,20)\n",
        "    LimiteSuperior = rnd.randint(0,30)+LimiteInferior\n",
        "    tiempoatencion = rnd.randint(LimiteInferior,LimiteSuperior)\n",
        "    return tiempoatencion\n",
        "def GenerarTiempoTrabajo() -> int:\n",
        "    r = rnd.random()\n",
        "    if r < 0.3:\n",
        "        x = rnd.uniform(6, 9)\n",
        "    elif r < 0.5:\n",
        "        x = rnd.uniform(7, 12)\n",
        "    elif r < 0.6:\n",
        "        x = rnd.uniform(8, 15)\n",
        "    else:\n",
        "        x = rnd.uniform(9, 16)\n",
        "    x = round(x,2)\n",
        "    return x\n",
        "print('*'*100)\n",
        "print(f'{\"Inicio del proceso\":>15}')\n",
        "inicio = time.time()\n",
        "hoy = datetime.date.today().strftime('%Y%m%d')\n",
        "DirectorioActual = os.getcwd()\n",
        "textemp = f'El directorio actual de trabajo es: \\n\\t--> {DirectorioActual}, \\nEsta carpeta contendrá el archivo de Excel para el parcial'\n",
        "print(textemp)\n",
        "RutaNombres = r'https://raw.githubusercontent.com/juliancastillo-udea/AlDiSi/main/Data/NombresArgentina.csv'\n",
        "RutaApellidos = r'https://raw.githubusercontent.com/juliancastillo-udea/AlDiSi/main/Data/ApellidosArgentina.csv'\n",
        "dfNombres = pd.read_csv(RutaNombres, encoding='ISO-8859-1')\n",
        "Nombres = dfNombres['name'].tolist()\n",
        "\n",
        "for i in tqdm.trange(len(Nombres)):\n",
        "    if ' ' in Nombres[i]:\n",
        "        Nombres[i]=Nombres[i].replace(' ', '_')\n",
        "dfApellidos = pd.read_csv(RutaApellidos, encoding='ISO-8859-1')\n",
        "Apellidos = dfApellidos['lastname'].tolist()\n",
        "for i in tqdm.trange(len(Apellidos)):\n",
        "    if ' ' in Apellidos[i]:\n",
        "        Apellidos[i]=Apellidos[i].replace(' ', '_')\n",
        "df = pd.DataFrame(columns=['Nombre', 'TiempoAtencion', 'HorasTrabajadas', 'ServiciosPromedio', 'Edad', 'Fecha'])\n",
        "for i in tqdm.trange(1000):\n",
        "    vector = []\n",
        "    nombre = GenerarNombre(Nombres, Apellidos).upper()\n",
        "    tiempoatencion = TiempoAtencion()\n",
        "    horastrabajadas = GenerarTiempoTrabajo()\n",
        "    serviciospromedio = (horastrabajadas*60)//tiempoatencion\n",
        "    edad = GenerarEdad()\n",
        "    fecha = datetime.date.today().strftime('%Y-%m-%d')\n",
        "    vector = [nombre, tiempoatencion, horastrabajadas, serviciospromedio, edad, fecha]\n",
        "    df.loc[len(df)] = vector\n",
        "excel = 'AjueTenderos.xlsx'\n",
        "RutaExcel = os.path.join(DirectorioActual, excel)\n",
        "df.to_excel(RutaExcel, index=False)\n",
        "files.download(RutaExcel)\n",
        "print(f\"El archivo {excel} ha sido creado en la carpeta {DirectorioActual}\")\n",
        "print(f\"Este ha sido descargado y deberá usarlo en su Parcial.\")\n",
        "print(f\"Este debe ser entregado en conjunto con el documento.\")\n",
        "print('*'*100)\n",
        "print('Descrición del dataframe')\n",
        "print(df.describe())\n",
        "print('*'*100)\n",
        "print('..:: Promedios ::..')\n",
        "print('.'*100)\n",
        "promedioTiempoAtencion = df.TiempoAtencion.mean()\n",
        "print(f'El promedio del Tiempo de Atencion es: {promedioTiempoAtencion:,.2f} minutos')\n",
        "promedioHorasTrabajadas = df.HorasTrabajadas.mean()\n",
        "print(f'El promedio del Horas Trabajadas es: {promedioHorasTrabajadas:,.2f} Horas, \\n\\t*   El promedio en minutos es: {promedioHorasTrabajadas*60:,.2f} minutos')\n",
        "promedioEdad = df.Edad.mean()\n",
        "print(f'El promedio de Edad de atencion es: {promedioEdad:,.2f}')\n",
        "print('*'*100)\n",
        "print('..:: Desviaciones ::..')\n",
        "print('.'*100)\n",
        "desviacionTiempoAtencion = df.TiempoAtencion.std()\n",
        "print(f'La desviación estandar del tiempo de Atencion es: {desviacionTiempoAtencion:,.2f}')\n",
        "desviacionHorasTrabajadas = df.HorasTrabajadas.std()\n",
        "print(f'La desviación estandar de Horas Trabajadas es: {desviacionHorasTrabajadas:,.2f} Horas, \\n\\t*   La desviación estandar en minutos es: {desviacionHorasTrabajadas*60:,.2f} minutos')\n",
        "desviacionEdad = df.Edad.std()\n",
        "print(f'La desviación estandar de Edad de atencion es: {desviacionEdad:,.2f}')\n",
        "print('*'*100)"
      ]
    },
    {
      "cell_type": "markdown",
      "source": [
        "Utilizando los datos generados con el código anterior y usando la estadística descriptiva allí proporcionada, identifica la cantidad de servicios que puede prestar un AT durante un día y luego durante una quincena para estimar el valor a ganar por el AT. Para el presente caso debes usar rangos aleatorios entre los datos encontrados usando la desviación estándar como límite inferior y superior a la hora de generar la cantidad de servicios diarios. Este código genera un documento de Excel con el cual puedes calcular los elementos necesarios que consideres en los supuestos o directamente sobre el dataframe de Pandas si así lo consideras.\n",
        "\n",
        "\n",
        "Cada servicio presenta un cobro dependiendo de múltiples razones a la hora de hacer la solicitud del servicio, por ejemplo, la distancia del AT al restaurante, la condición del clima, la distancia del restaurante al comprador, el estado del tráfico y el horario en el cual se está realizando el domicilio. Estos valores son detallados a continuación y presentan variaciones a la hora de calcular el valor del domicilio en donde todos los datos definidos a continuación son acumulativos para contabilizar el cobro del AT.\n"
      ],
      "metadata": {
        "id": "2hSOy0UfGWHh"
      }
    },
    {
      "cell_type": "markdown",
      "source": [
        "*   Distancia del AT al restaurante: la distancia es aleatoria uniforme y se define en metros, en donde se estiman aleatoriamente bajo la siguiente rubrica donde las distancias inferior y superior, tanto como los costos mínimo y máximo, ambos son rangos aleatorios uniformes:\n",
        "\n",
        "><img alt=\"UdeA\" height=\"200px\" src=\"https://i.imgur.com/EuCJVrA.png\" align=\"left\">"
      ],
      "metadata": {
        "id": "Yt_wR_DkGccm"
      }
    },
    {
      "cell_type": "markdown",
      "source": [
        "*   Estado del clima: el clima se define en cinco categorías, las cuales tienen una probabilidad de ocurrencia relacionado y presentan un costo basado en este con intervalos uniformes.\n",
        "\n",
        "><img alt=\"UdeA\" height=\"200px\" src=\"https://i.imgur.com/NDAsVDq.png\" align=\"left\">"
      ],
      "metadata": {
        "id": "dK2QcviVNZKN"
      }
    },
    {
      "cell_type": "markdown",
      "source": [
        "*   Distancia del restaurante a la entrega: la distancia es aleatoria uniforme y se define en metros, en donde las distancias inferior y superior, tanto como los costos mínimo y máximo, estos son rangos uniformes:\n",
        "\n",
        "><img alt=\"UdeA\" height=\"200px\" src=\"https://i.imgur.com/vEPposU.png\" align=\"left\">"
      ],
      "metadata": {
        "id": "G64pt5ZROPXv"
      }
    },
    {
      "cell_type": "markdown",
      "source": [
        "*   Estado del tráfico: el tráfico afecta el desempeño de los AT y también implica costos relacionados al tiempo de entrega, para el presente caso los costos se relacionan desde tres tipos de congestión vehicular, alta, media y baja, en donde repercuten sobrecostos del 11%, 8% y 5% respectivamente sobre el costo exclusivo del valor de las distancias. La probabilidad de una congestión alta se relaciona con un 50%, media con un 25% y baja con el restante. Estos tipos cuentan con una variación aleatoria uniforme para cada una de ellas del 3% tanto hacia arriba como hacia abajo.\n",
        "\n",
        "><img alt=\"UdeA\" height=\"100px\" src=\"https://i.imgur.com/LVdGbSC.png\" align=\"left\">"
      ],
      "metadata": {
        "id": "S6itoYpTOO1U"
      }
    },
    {
      "cell_type": "markdown",
      "source": [
        "*   Horario de entrega: el horario de entrega tiene cuatro ventanas de entrega. Estas se describen con su costo a continuación, en donde todos los rangos son uniformes.\n",
        ">*   Hora pico: tiene un sobre costo entre 7 y 10%. Probabilidad 60%.\n",
        ">*   Hora valle entre horas pico: tiene un sobrecosto entre 5 y 9%. Probabilidad 20%.\n",
        ">*   Hora valle post hora pico antes de medianoche: tiene un subcosto o un ahorro entre el -3 y -5%. Probabilidad 15%.\n",
        ">*   Hora madrugada: tiene un sobrecosto entre 3 y 5%.\n",
        "\n",
        "\n",
        ">><img alt=\"UdeA\" height=\"100px\" src=\"https://i.imgur.com/FtSebhq.png\" align=\"left\">"
      ],
      "metadata": {
        "id": "D-VAKI7YOOJ5"
      }
    },
    {
      "cell_type": "markdown",
      "source": [
        "Luego de calcular la sumatoria de estos cobros de acuerdo con las condiciones detalladas previamente, el servicio de AJ se queda con el 30% del valor como gastos de uso de la plataforma y el AT se queda con el resto del dinero.\n",
        "El objetivo de este ejercicio es:\n",
        "*   El presente ejercicio tiene como objetivo estimar la ganancia promedio que recibe un AT mensual de acuerdo con su estructura de trabajo diaria definida previamente.\n",
        "*   Encontrar el estado estable del modelo, que permita estimarlo con un 5% de aceptación y determinar su convergencia, expresando su viabilidad y la ganancia estimada para una quincena. Graficar este procedimiento.\n",
        "*   Describir los procedimientos realizados en el presente modelo y detallar el uso de modelos de Montecarlo en el presente ejercicio.\n",
        "*   Estimar cual es la probabilidad que un servicio de AJ tenga un costo de mas de diez mil pesos.\n",
        "\n",
        "Nota: No se aceptan menos de 100 repeticiones.\n",
        "\n",
        "*   Realizar las gráficas de convergencia y del comportamiento que considere necesarias.\n",
        "\n",
        "*   Realizar los supuestos que considere necesarios y explíquelos detalladamente.\n",
        "*   Utilizar funciones para solucionar el problema, el modelo general deberá ser creado en una función llamada “AjueFuncion”. Si se usan diccionarios para almacenar la información del modelo se dará bonificación de 0.2.\n"
      ],
      "metadata": {
        "id": "UkcCyZFMNnl9"
      }
    },
    {
      "cell_type": "markdown",
      "source": [
        "# **Ejercicio 2 Montecarlo Integrales (20%)**\n",
        "\n",
        "Para el presente ejercicio se presentan las siguientes seis funciones:\n",
        "*   <font color='blue'> **Exponencial base $2^x$** </font>\n",
        "*   <font color='red'> **Exponencial base $3^x$** </font>\n",
        "*   <font color='green'> **Exponencial base $e^x$** </font>\n",
        "*   <font color='orange'> **Cuadratica $x^2$** </font>\n",
        "*   <font color='cyan'> **Cubica $x^3$** </font>\n",
        "*   <font color='pink'> **Logistica** </font>\n",
        "\n",
        "El objetivo es seleccionar un área que se encuentre delimitada por al menos dos funciones internas y aplicar el calculo proporcional de una integral escalada para calcular el valor del área elegida como se muestra en amarillo en la figura. Para el presente ejercicio se debe calcular usando Montecarlo integrales para al menos 1000 replicas y definir el valor del área con una precisión de tres cifras significativas y calcular la convergencia tanto del área como de la proporción.\n",
        "\n",
        "Definir la cantidad mínima de réplicas de acuerdo con el proceso de convergencia realizado para el área y la proporciona y explicar la elección de este valor. Sustentar su respuesta con graficas de convergencia e independientes para ambos componentes (área y proporción).\n",
        "\n",
        "<br><br><br>\n",
        "\n",
        "<table>\n",
        "<thead>\n",
        "  <tr>\n",
        "    <th>Gráfica sin selección</th>\n",
        "    <th>Gráfica de Ejemplo, el color amarillo representa el área entre las curvas logistica y exponencial base 2</th>\n",
        "  </tr>\n",
        "</thead>\n",
        "<tbody>\n",
        "  <tr>\n",
        "    <td><center>\n",
        "    <img alt=\"UdeA\" height=\"400px\" src=\"https://i.imgur.com/okIF8dr.png\" align=\"center\">\n",
        "    </td>\n",
        "    <td><center>\n",
        "    <img alt=\"UdeA\" height=\"400px\" src=\"https://i.imgur.com/448L1id.png\" align=\"center\">\n",
        "    </td>\n",
        "  </tr>\n",
        "</tbody>\n",
        "</table>"
      ],
      "metadata": {
        "id": "XH-olc8o5GVh"
      }
    },
    {
      "cell_type": "code",
      "source": [
        "#Grafica\n",
        "#Código de las funciones\n",
        "# Datos\n",
        "x = np.linspace(0, 1, 1000)\n",
        "# Exponencial base 2\n",
        "y_exp_base_2 = (2**x)-1\n",
        "# Exponencial base 3\n",
        "y_exp_base_3 = (3**x)-1\n",
        "# Exponencial base e\n",
        "y_exp_base_e = (mt.e**x)-1\n",
        "# Cuadratica\n",
        "y_cuadratica = (x**2)\n",
        "# Cubica\n",
        "y_cubica = (x**3)\n",
        "# Función logística\n",
        "y_logistic = 1 / (1 + np.exp(-12 * (x - 0.5)))\n",
        "# Gráficas\n",
        "plt.figure(figsize=(7, 7))\n",
        "plt.plot(x, y_exp_base_2, color='blue', label='Exp 2^x')\n",
        "plt.plot(x, y_exp_base_3, color='red', label='Exp 3^x')\n",
        "plt.plot(x, y_exp_base_e, color='green', label='Exp e^x')\n",
        "plt.plot(x, y_cuadratica, color='orange', label='x²')\n",
        "plt.plot(x, y_cubica, color='cyan', label='x³')\n",
        "plt.plot(x, y_logistic, color='pink', label='Logística')\n",
        "plt.xlabel('x')\n",
        "plt.ylabel('f(x) Escalado')\n",
        "plt.title('Calculo de integral escalada, con ejes escalados')\n",
        "plt.legend()\n",
        "plt.axis('scaled')\n",
        "plt.show()"
      ],
      "metadata": {
        "id": "G36aa4h8ebIU"
      },
      "execution_count": null,
      "outputs": []
    },
    {
      "cell_type": "code",
      "source": [
        "#Solucion"
      ],
      "metadata": {
        "id": "kzSXKWt1dH9d"
      },
      "execution_count": null,
      "outputs": []
    },
    {
      "cell_type": "code",
      "source": [
        "# @markdown ## **El área estimada para 1000 replicas es de:**\n",
        "print(f'~= {0:,.3f}')"
      ],
      "metadata": {
        "cellView": "form",
        "id": "RaDfAqqadJaS"
      },
      "execution_count": null,
      "outputs": []
    }
  ]
}